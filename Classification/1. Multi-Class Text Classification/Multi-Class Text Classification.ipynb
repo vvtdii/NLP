{
  "nbformat": 4,
  "nbformat_minor": 0,
  "metadata": {
    "colab": {
      "provenance": []
    },
    "kernelspec": {
      "name": "python3",
      "display_name": "Python 3"
    },
    "language_info": {
      "name": "python"
    }
  },
  "cells": [
    {
      "cell_type": "markdown",
      "source": [
        "#Library"
      ],
      "metadata": {
        "id": "XKNJQVSBCngr"
      }
    },
    {
      "cell_type": "code",
      "source": [
        "!pip install Sastrawi"
      ],
      "metadata": {
        "id": "glv7uANTCxgv",
        "colab": {
          "base_uri": "https://localhost:8080/"
        },
        "outputId": "a70014f9-41e4-446f-96bd-f9331f909eb4"
      },
      "execution_count": null,
      "outputs": [
        {
          "output_type": "stream",
          "name": "stdout",
          "text": [
            "Looking in indexes: https://pypi.org/simple, https://us-python.pkg.dev/colab-wheels/public/simple/\n",
            "Collecting Sastrawi\n",
            "  Downloading Sastrawi-1.0.1-py2.py3-none-any.whl (209 kB)\n",
            "\u001b[2K     \u001b[90m━━━━━━━━━━━━━━━━━━━━━━━━━━━━━━━━━━━━━━\u001b[0m \u001b[32m209.7/209.7 kB\u001b[0m \u001b[31m14.6 MB/s\u001b[0m eta \u001b[36m0:00:00\u001b[0m\n",
            "\u001b[?25hInstalling collected packages: Sastrawi\n",
            "Successfully installed Sastrawi-1.0.1\n"
          ]
        }
      ]
    },
    {
      "cell_type": "code",
      "source": [
        "#For EDA\n",
        "import pandas as pd\n",
        "import numpy as np\n",
        "import re\n",
        "import missingno as msno\n",
        "\n",
        "import matplotlib.pyplot as plt\n",
        "import seaborn as sns\n",
        "\n",
        "sns.set_style(\"whitegrid\")\n",
        "\n",
        "import nltk\n",
        "from sklearn.feature_extraction.text import CountVectorizer\n",
        "from sklearn.model_selection import train_test_split\n",
        "import time\n",
        "from tqdm import tqdm\n",
        "\n",
        "import warnings\n",
        "warnings.filterwarnings(\"ignore\")\n",
        "\n",
        "#For Pre-Processing\n",
        "import pandas as pd\n",
        "import numpy as np\n",
        "import re\n",
        "from sklearn import preprocessing\n",
        "\n",
        "import plotly.express as px\n",
        "import matplotlib.pyplot as plt\n",
        "\n",
        "import nltk\n",
        "from sklearn.feature_selection import chi2\n",
        "from sklearn.feature_extraction.text import TfidfVectorizer\n",
        "from sklearn.feature_extraction.text import TfidfTransformer\n",
        "from sklearn.model_selection import train_test_split\n",
        "from sklearn.feature_extraction.text import CountVectorizer\n",
        "from Sastrawi.Stemmer.StemmerFactory import StemmerFactory\n",
        "from nltk.stem import WordNetLemmatizer\n",
        "from nltk.corpus import stopwords\n",
        "from nltk.tokenize import RegexpTokenizer\n",
        "from nltk.tokenize import word_tokenize\n",
        "from imblearn.over_sampling import SMOTE\n",
        "from collections import Counter\n",
        "nltk.download('wordnet')\n",
        "nltk.download('stopwords')\n",
        "nltk.download('punkt')\n",
        "nltk.download('omw-1.4')\n",
        "from PIL import Image\n",
        "from wordcloud import WordCloud, STOPWORDS, ImageColorGenerator\n",
        "\n",
        "import time\n",
        "from tqdm.auto import tqdm\n",
        "from gensim.models import FastText\n",
        "\n",
        "import warnings\n",
        "warnings.filterwarnings(\"ignore\")\n",
        "\n",
        "\n",
        "# For Training\n",
        "from sklearn.model_selection import RandomizedSearchCV\n",
        "from sklearn.model_selection import GridSearchCV\n",
        "from sklearn import metrics\n",
        "from sklearn.model_selection import cross_val_score\n",
        "from sklearn.svm import SVC\n",
        "from keras.preprocessing.text import Tokenizer\n",
        "from sklearn.metrics import accuracy_score, f1_score, precision_score, recall_score, classification_report, confusion_matrix, accuracy_score, hamming_loss\n",
        "\n",
        "import os, re, csv, math, codecs"
      ],
      "metadata": {
        "id": "oaIqYmlEWXAi",
        "colab": {
          "base_uri": "https://localhost:8080/"
        },
        "outputId": "6a0fbace-2b01-459d-fea0-47c978dbe3d4"
      },
      "execution_count": null,
      "outputs": [
        {
          "output_type": "stream",
          "name": "stderr",
          "text": [
            "[nltk_data] Downloading package wordnet to /root/nltk_data...\n",
            "[nltk_data] Downloading package stopwords to /root/nltk_data...\n",
            "[nltk_data]   Unzipping corpora/stopwords.zip.\n",
            "[nltk_data] Downloading package punkt to /root/nltk_data...\n",
            "[nltk_data]   Unzipping tokenizers/punkt.zip.\n",
            "[nltk_data] Downloading package omw-1.4 to /root/nltk_data...\n"
          ]
        }
      ]
    },
    {
      "cell_type": "markdown",
      "source": [
        "#Import Data"
      ],
      "metadata": {
        "id": "HyYDZ8G_DRKC"
      }
    },
    {
      "cell_type": "code",
      "source": [
        "rekomendasi=pd.read_excel('Data for Multi-Class Text Classification.xlsx')"
      ],
      "metadata": {
        "id": "8ReVhSPcWXAi"
      },
      "execution_count": null,
      "outputs": []
    },
    {
      "cell_type": "markdown",
      "source": [
        "# ***Data Preprocessing***"
      ],
      "metadata": {
        "id": "FCORGgejWXAj"
      }
    },
    {
      "cell_type": "markdown",
      "source": [
        "##Dummy"
      ],
      "metadata": {
        "id": "LFvE9bw2T2OE"
      }
    },
    {
      "cell_type": "code",
      "source": [
        "bidang_dummy = pd.get_dummies(rekomendasi['Bidang'])"
      ],
      "metadata": {
        "id": "mbnGG_kRT3We"
      },
      "execution_count": null,
      "outputs": []
    },
    {
      "cell_type": "code",
      "source": [
        "data=rekomendasi.join(bidang_dummy)"
      ],
      "metadata": {
        "id": "G_R9FV1OUQh2"
      },
      "execution_count": null,
      "outputs": []
    },
    {
      "cell_type": "code",
      "source": [
        "rekomendasi.drop(['Bidang'], axis=1, inplace=True)"
      ],
      "metadata": {
        "id": "tvGv1Sc0US-v"
      },
      "execution_count": null,
      "outputs": []
    },
    {
      "cell_type": "markdown",
      "source": [
        "##***Text Cleaning***"
      ],
      "metadata": {
        "id": "O-aD6o5mWXAj"
      }
    },
    {
      "cell_type": "markdown",
      "source": [
        "1. Menghilangkan simbol khusus seperti \\r, \\n, \", url, dan byte code"
      ],
      "metadata": {
        "id": "T4nKUGqoWXAj"
      }
    },
    {
      "cell_type": "code",
      "source": [
        "def cleaning(data):\n",
        "    data['Rekomendasi_Parsed_1'] = data['Rekomendasi'].str.replace(\"\\\\\\\\r\", \" \")\n",
        "    data['Rekomendasi_Parsed_1'] = data['Rekomendasi_Parsed_1'].str.replace(\"\\\\\\\\n\", \" \")\n",
        "    data['Rekomendasi_Parsed_1'] = data['Rekomendasi_Parsed_1'].str.replace(\"\\n\", \" \")\n",
        "    data['Rekomendasi_Parsed_1'] = data['Rekomendasi_Parsed_1'].str.replace(\"\\r\", \" \")\n",
        "    data['Rekomendasi_Parsed_1'] = data['Rekomendasi_Parsed_1'].str.replace(\"&amp\", \" \")\n",
        "    data['Rekomendasi_Parsed_1'] = data['Rekomendasi_Parsed_1'].str.replace(\"&gt\", \" \")\n",
        "    data['Rekomendasi_Parsed_1'] = data['Rekomendasi_Parsed_1'].str.replace(\"&lt\", \" \")\n",
        "    data['Rekomendasi_Parsed_1'] = data['Rekomendasi_Parsed_1'].str.replace(\"    \", \" \")\n",
        "    data['Rekomendasi_Parsed_1'] = data['Rekomendasi_Parsed_1'].str.replace(r'''(?i)\\b((?:https|http?://|www\\d{0,3}[.]|[a-z0-9.\\-]+[.][a-z]{2,4}/)(?:[^\\s()<>]+|\\(([^\\s()<>]+|(\\([^\\s()<>]+\\)))*\\))+(?:\\(([^\\s()<>]+|(\\([^\\s()<>]+\\)))*\\)|[^\\s`!()\\[\\]{};:'\".,<>?«»“”‘’]))''', \" \")\n",
        "    data['Rekomendasi_Parsed_1'] = data['Rekomendasi_Parsed_1'].str.replace('\"', '')\n",
        "    data['Rekomendasi_Parsed_1'] = data['Rekomendasi_Parsed_1'].str.replace(\"\\\\\\\\x[a-zA-z0-9][a-zA-z0-9]\",\"\")\n",
        "    return data"
      ],
      "metadata": {
        "id": "9TRN7gXfWXAk"
      },
      "execution_count": null,
      "outputs": []
    },
    {
      "cell_type": "code",
      "source": [
        "data = cleaning(data)\n",
        "data['Rekomendasi_Parsed_1'].head()"
      ],
      "metadata": {
        "id": "LlWZYHwcWXAk",
        "colab": {
          "base_uri": "https://localhost:8080/"
        },
        "outputId": "e7be000d-a02b-414c-c5e9-e793381b61d7"
      },
      "execution_count": null,
      "outputs": [
        {
          "output_type": "execute_result",
          "data": {
            "text/plain": [
              "0    Pembelajaran lebih baik dilaksanakan secara kl...\n",
              "1    Penetapan jadwal pelatihan dapat lebih mengako...\n",
              "2    Materi perlu ditambah terutama terkait  BLU da...\n",
              "3    Perlu disediakan mikrofon untuk pengajar karen...\n",
              "4    Materi terkait aplikasi lebih diperbanyak prak...\n",
              "Name: Rekomendasi_Parsed_1, dtype: object"
            ]
          },
          "metadata": {},
          "execution_count": 8
        }
      ]
    },
    {
      "cell_type": "markdown",
      "source": [
        "2. Mengubah menjadi *lower case*"
      ],
      "metadata": {
        "id": "jv_-Iq1rWXAk"
      }
    },
    {
      "cell_type": "code",
      "source": [
        "def lowerCase(data):\n",
        "    data['Rekomendasi_Parsed_2'] = data['Rekomendasi_Parsed_1'].str.lower()\n",
        "    return data"
      ],
      "metadata": {
        "id": "1pVYqaCYWXAl"
      },
      "execution_count": null,
      "outputs": []
    },
    {
      "cell_type": "code",
      "source": [
        "data = lowerCase(data)\n",
        "data['Rekomendasi_Parsed_2'].head()"
      ],
      "metadata": {
        "id": "MNhjvR74WXAl",
        "colab": {
          "base_uri": "https://localhost:8080/"
        },
        "outputId": "7ecf7a24-07d6-47fb-e84e-da8c197f683a"
      },
      "execution_count": null,
      "outputs": [
        {
          "output_type": "execute_result",
          "data": {
            "text/plain": [
              "0    pembelajaran lebih baik dilaksanakan secara kl...\n",
              "1    penetapan jadwal pelatihan dapat lebih mengako...\n",
              "2    materi perlu ditambah terutama terkait  blu da...\n",
              "3    perlu disediakan mikrofon untuk pengajar karen...\n",
              "4    materi terkait aplikasi lebih diperbanyak prak...\n",
              "Name: Rekomendasi_Parsed_2, dtype: object"
            ]
          },
          "metadata": {},
          "execution_count": 10
        }
      ]
    },
    {
      "cell_type": "markdown",
      "source": [
        "3. Menghapus simbol dan tanda baca"
      ],
      "metadata": {
        "id": "vVLSRJ0sWXAm"
      }
    },
    {
      "cell_type": "code",
      "source": [
        "def removePunct(data):\n",
        "    data['Rekomendasi_Parsed_3'] = data['Rekomendasi_Parsed_2']\n",
        "    data['Rekomendasi_Parsed_3'] = data['Rekomendasi_Parsed_3'].str.replace(\"'s\",\"\")\n",
        "    data['Rekomendasi_Parsed_3'] = data['Rekomendasi_Parsed_3'].str.replace('[^a-zA-Z0-9]+',' ')\n",
        "    return data"
      ],
      "metadata": {
        "id": "l5NfnyhpWXAm"
      },
      "execution_count": null,
      "outputs": []
    },
    {
      "cell_type": "code",
      "source": [
        "data = removePunct(data)\n",
        "data['Rekomendasi_Parsed_3'].head()"
      ],
      "metadata": {
        "id": "KnnIqsL7WXAm",
        "colab": {
          "base_uri": "https://localhost:8080/"
        },
        "outputId": "2129bb21-b213-4f40-d080-49bc648f2d10"
      },
      "execution_count": null,
      "outputs": [
        {
          "output_type": "execute_result",
          "data": {
            "text/plain": [
              "0    pembelajaran lebih baik dilaksanakan secara kl...\n",
              "1    penetapan jadwal pelatihan dapat lebih mengako...\n",
              "2    materi perlu ditambah terutama terkait blu dan...\n",
              "3    perlu disediakan mikrofon untuk pengajar karen...\n",
              "4    materi terkait aplikasi lebih diperbanyak prak...\n",
              "Name: Rekomendasi_Parsed_3, dtype: object"
            ]
          },
          "metadata": {},
          "execution_count": 12
        }
      ]
    },
    {
      "cell_type": "markdown",
      "source": [
        "4. Normalisasi kata"
      ],
      "metadata": {
        "id": "fyhfrBtLWXAn"
      }
    },
    {
      "cell_type": "code",
      "source": [
        "kamus_normal = pd.read_csv(\"kamusnormalisasi.csv\",encoding='latin-1',header=None,names=[\"non-standard word\",\"standard word\"])\n",
        "kamus_normal.head()"
      ],
      "metadata": {
        "id": "gIlmGkryWXAn",
        "colab": {
          "base_uri": "https://localhost:8080/",
          "height": 206
        },
        "outputId": "46911d30-cfda-4972-8f6a-978c567ca1fe"
      },
      "execution_count": null,
      "outputs": [
        {
          "output_type": "execute_result",
          "data": {
            "text/plain": [
              "  non-standard word         standard word\n",
              "0            27-Jun  dua puluh tujuh juni\n",
              "1          01curang             01 curang\n",
              "2     01thechampion       01 the champion\n",
              "3  02wintheelection   02 win the election\n",
              "4        Â½ramayana              ramayana"
            ],
            "text/html": [
              "\n",
              "  <div id=\"df-bf26fc0d-99e8-4ea5-848a-eafa1a5a5b7e\">\n",
              "    <div class=\"colab-df-container\">\n",
              "      <div>\n",
              "<style scoped>\n",
              "    .dataframe tbody tr th:only-of-type {\n",
              "        vertical-align: middle;\n",
              "    }\n",
              "\n",
              "    .dataframe tbody tr th {\n",
              "        vertical-align: top;\n",
              "    }\n",
              "\n",
              "    .dataframe thead th {\n",
              "        text-align: right;\n",
              "    }\n",
              "</style>\n",
              "<table border=\"1\" class=\"dataframe\">\n",
              "  <thead>\n",
              "    <tr style=\"text-align: right;\">\n",
              "      <th></th>\n",
              "      <th>non-standard word</th>\n",
              "      <th>standard word</th>\n",
              "    </tr>\n",
              "  </thead>\n",
              "  <tbody>\n",
              "    <tr>\n",
              "      <th>0</th>\n",
              "      <td>27-Jun</td>\n",
              "      <td>dua puluh tujuh juni</td>\n",
              "    </tr>\n",
              "    <tr>\n",
              "      <th>1</th>\n",
              "      <td>01curang</td>\n",
              "      <td>01 curang</td>\n",
              "    </tr>\n",
              "    <tr>\n",
              "      <th>2</th>\n",
              "      <td>01thechampion</td>\n",
              "      <td>01 the champion</td>\n",
              "    </tr>\n",
              "    <tr>\n",
              "      <th>3</th>\n",
              "      <td>02wintheelection</td>\n",
              "      <td>02 win the election</td>\n",
              "    </tr>\n",
              "    <tr>\n",
              "      <th>4</th>\n",
              "      <td>Â½ramayana</td>\n",
              "      <td>ramayana</td>\n",
              "    </tr>\n",
              "  </tbody>\n",
              "</table>\n",
              "</div>\n",
              "      <button class=\"colab-df-convert\" onclick=\"convertToInteractive('df-bf26fc0d-99e8-4ea5-848a-eafa1a5a5b7e')\"\n",
              "              title=\"Convert this dataframe to an interactive table.\"\n",
              "              style=\"display:none;\">\n",
              "        \n",
              "  <svg xmlns=\"http://www.w3.org/2000/svg\" height=\"24px\"viewBox=\"0 0 24 24\"\n",
              "       width=\"24px\">\n",
              "    <path d=\"M0 0h24v24H0V0z\" fill=\"none\"/>\n",
              "    <path d=\"M18.56 5.44l.94 2.06.94-2.06 2.06-.94-2.06-.94-.94-2.06-.94 2.06-2.06.94zm-11 1L8.5 8.5l.94-2.06 2.06-.94-2.06-.94L8.5 2.5l-.94 2.06-2.06.94zm10 10l.94 2.06.94-2.06 2.06-.94-2.06-.94-.94-2.06-.94 2.06-2.06.94z\"/><path d=\"M17.41 7.96l-1.37-1.37c-.4-.4-.92-.59-1.43-.59-.52 0-1.04.2-1.43.59L10.3 9.45l-7.72 7.72c-.78.78-.78 2.05 0 2.83L4 21.41c.39.39.9.59 1.41.59.51 0 1.02-.2 1.41-.59l7.78-7.78 2.81-2.81c.8-.78.8-2.07 0-2.86zM5.41 20L4 18.59l7.72-7.72 1.47 1.35L5.41 20z\"/>\n",
              "  </svg>\n",
              "      </button>\n",
              "      \n",
              "  <style>\n",
              "    .colab-df-container {\n",
              "      display:flex;\n",
              "      flex-wrap:wrap;\n",
              "      gap: 12px;\n",
              "    }\n",
              "\n",
              "    .colab-df-convert {\n",
              "      background-color: #E8F0FE;\n",
              "      border: none;\n",
              "      border-radius: 50%;\n",
              "      cursor: pointer;\n",
              "      display: none;\n",
              "      fill: #1967D2;\n",
              "      height: 32px;\n",
              "      padding: 0 0 0 0;\n",
              "      width: 32px;\n",
              "    }\n",
              "\n",
              "    .colab-df-convert:hover {\n",
              "      background-color: #E2EBFA;\n",
              "      box-shadow: 0px 1px 2px rgba(60, 64, 67, 0.3), 0px 1px 3px 1px rgba(60, 64, 67, 0.15);\n",
              "      fill: #174EA6;\n",
              "    }\n",
              "\n",
              "    [theme=dark] .colab-df-convert {\n",
              "      background-color: #3B4455;\n",
              "      fill: #D2E3FC;\n",
              "    }\n",
              "\n",
              "    [theme=dark] .colab-df-convert:hover {\n",
              "      background-color: #434B5C;\n",
              "      box-shadow: 0px 1px 3px 1px rgba(0, 0, 0, 0.15);\n",
              "      filter: drop-shadow(0px 1px 2px rgba(0, 0, 0, 0.3));\n",
              "      fill: #FFFFFF;\n",
              "    }\n",
              "  </style>\n",
              "\n",
              "      <script>\n",
              "        const buttonEl =\n",
              "          document.querySelector('#df-bf26fc0d-99e8-4ea5-848a-eafa1a5a5b7e button.colab-df-convert');\n",
              "        buttonEl.style.display =\n",
              "          google.colab.kernel.accessAllowed ? 'block' : 'none';\n",
              "\n",
              "        async function convertToInteractive(key) {\n",
              "          const element = document.querySelector('#df-bf26fc0d-99e8-4ea5-848a-eafa1a5a5b7e');\n",
              "          const dataTable =\n",
              "            await google.colab.kernel.invokeFunction('convertToInteractive',\n",
              "                                                     [key], {});\n",
              "          if (!dataTable) return;\n",
              "\n",
              "          const docLinkHtml = 'Like what you see? Visit the ' +\n",
              "            '<a target=\"_blank\" href=https://colab.research.google.com/notebooks/data_table.ipynb>data table notebook</a>'\n",
              "            + ' to learn more about interactive tables.';\n",
              "          element.innerHTML = '';\n",
              "          dataTable['output_type'] = 'display_data';\n",
              "          await google.colab.output.renderOutput(dataTable, element);\n",
              "          const docLink = document.createElement('div');\n",
              "          docLink.innerHTML = docLinkHtml;\n",
              "          element.appendChild(docLink);\n",
              "        }\n",
              "      </script>\n",
              "    </div>\n",
              "  </div>\n",
              "  "
            ]
          },
          "metadata": {},
          "execution_count": 13
        }
      ]
    },
    {
      "cell_type": "code",
      "source": [
        "nonstdword = kamus_normal['non-standard word'].values.tolist()\n",
        "stdword = kamus_normal['standard word'].values.tolist()"
      ],
      "metadata": {
        "id": "jZ1o1bWnWXAn"
      },
      "execution_count": null,
      "outputs": []
    },
    {
      "cell_type": "code",
      "source": [
        "def normalize_text(text, stdword_, nonstdword_):\n",
        "    text = text.split(\" \")\n",
        "    for i in range(len(text)):\n",
        "        if text[i] in nonstdword_:\n",
        "            index = nonstdword_.index(text[i])\n",
        "            text[i] = stdword_[index]\n",
        "    return ' '.join(map(str, text))\n",
        "\n",
        "def normalizeData(data, stdword_, nonstdword_):\n",
        "    data['Rekomendasi_Parsed_4'] = data['Rekomendasi_Parsed_3']\n",
        "    data['Rekomendasi_Parsed_4'] = data['Rekomendasi_Parsed_4'].map(lambda com : normalize_text(com,stdword_,nonstdword_))\n",
        "    return data"
      ],
      "metadata": {
        "id": "HUuYz3T2WXAo"
      },
      "execution_count": null,
      "outputs": []
    },
    {
      "cell_type": "code",
      "source": [
        "data = normalizeData(data, stdword, nonstdword)\n",
        "data['Rekomendasi_Parsed_4'].head()"
      ],
      "metadata": {
        "id": "AyIBsIFMWXAo",
        "colab": {
          "base_uri": "https://localhost:8080/"
        },
        "outputId": "067e4667-8c02-466d-e3a1-577af6d5757d"
      },
      "execution_count": null,
      "outputs": [
        {
          "output_type": "execute_result",
          "data": {
            "text/plain": [
              "0    pembelajaran lebih baik dilaksanakan secara kl...\n",
              "1    penetapan jadwal pelatihan dapat lebih mengako...\n",
              "2    materi perlu ditambah terutama terkait blu dan...\n",
              "3    perlu disediakan mikrofon untuk pengajar karen...\n",
              "4    materi terkait aplikasi lebih diperbanyak prak...\n",
              "Name: Rekomendasi_Parsed_4, dtype: object"
            ]
          },
          "metadata": {},
          "execution_count": 16
        }
      ]
    },
    {
      "cell_type": "markdown",
      "source": [
        "5. Menghilangkan angka"
      ],
      "metadata": {
        "id": "sBibLlgUWXAo"
      }
    },
    {
      "cell_type": "code",
      "source": [
        "def removeNumb(data):\n",
        "    data['Rekomendasi_Parsed_4'] = data['Rekomendasi_Parsed_4'].str.replace('[^a-zA-Z]+',' ')\n",
        "    return data"
      ],
      "metadata": {
        "id": "cEMNqxW8WXAo"
      },
      "execution_count": null,
      "outputs": []
    },
    {
      "cell_type": "code",
      "source": [
        "data = removeNumb(data)\n",
        "data['Rekomendasi_Parsed_4'].head()"
      ],
      "metadata": {
        "id": "-rwQxDdLWXAp",
        "colab": {
          "base_uri": "https://localhost:8080/"
        },
        "outputId": "4a071e3f-70a2-4f76-b4e3-5a303206b0e3"
      },
      "execution_count": null,
      "outputs": [
        {
          "output_type": "execute_result",
          "data": {
            "text/plain": [
              "0    pembelajaran lebih baik dilaksanakan secara kl...\n",
              "1    penetapan jadwal pelatihan dapat lebih mengako...\n",
              "2    materi perlu ditambah terutama terkait blu dan...\n",
              "3    perlu disediakan mikrofon untuk pengajar karen...\n",
              "4    materi terkait aplikasi lebih diperbanyak prak...\n",
              "Name: Rekomendasi_Parsed_4, dtype: object"
            ]
          },
          "metadata": {},
          "execution_count": 18
        }
      ]
    },
    {
      "cell_type": "code",
      "source": [
        "print(data['Rekomendasi_Parsed_4'].loc[35])"
      ],
      "metadata": {
        "id": "bePM2DMIU5BN",
        "colab": {
          "base_uri": "https://localhost:8080/"
        },
        "outputId": "1dd7e66e-6eb0-4b57-9d75-4ea2861c3e6a"
      },
      "execution_count": null,
      "outputs": [
        {
          "output_type": "stream",
          "name": "stdout",
          "text": [
            "terdapat error aplikasi via handphone aplikasi store apple pada saat mengerjakan kuis\n"
          ]
        }
      ]
    },
    {
      "cell_type": "markdown",
      "source": [
        "6. Menghilangkan kata tidak bermakna (*stopwords*)"
      ],
      "metadata": {
        "id": "xM_ILrc6WXAp"
      }
    },
    {
      "cell_type": "code",
      "source": [
        "list(stopwords.words('indonesian'))"
      ],
      "metadata": {
        "id": "mHliYpyoYNsj",
        "colab": {
          "base_uri": "https://localhost:8080/"
        },
        "outputId": "384bbde9-8702-49d7-a191-df7f3385a862"
      },
      "execution_count": null,
      "outputs": [
        {
          "output_type": "execute_result",
          "data": {
            "text/plain": [
              "['ada',\n",
              " 'adalah',\n",
              " 'adanya',\n",
              " 'adapun',\n",
              " 'agak',\n",
              " 'agaknya',\n",
              " 'agar',\n",
              " 'akan',\n",
              " 'akankah',\n",
              " 'akhir',\n",
              " 'akhiri',\n",
              " 'akhirnya',\n",
              " 'aku',\n",
              " 'akulah',\n",
              " 'amat',\n",
              " 'amatlah',\n",
              " 'anda',\n",
              " 'andalah',\n",
              " 'antar',\n",
              " 'antara',\n",
              " 'antaranya',\n",
              " 'apa',\n",
              " 'apaan',\n",
              " 'apabila',\n",
              " 'apakah',\n",
              " 'apalagi',\n",
              " 'apatah',\n",
              " 'artinya',\n",
              " 'asal',\n",
              " 'asalkan',\n",
              " 'atas',\n",
              " 'atau',\n",
              " 'ataukah',\n",
              " 'ataupun',\n",
              " 'awal',\n",
              " 'awalnya',\n",
              " 'bagai',\n",
              " 'bagaikan',\n",
              " 'bagaimana',\n",
              " 'bagaimanakah',\n",
              " 'bagaimanapun',\n",
              " 'bagi',\n",
              " 'bagian',\n",
              " 'bahkan',\n",
              " 'bahwa',\n",
              " 'bahwasanya',\n",
              " 'baik',\n",
              " 'bakal',\n",
              " 'bakalan',\n",
              " 'balik',\n",
              " 'banyak',\n",
              " 'bapak',\n",
              " 'baru',\n",
              " 'bawah',\n",
              " 'beberapa',\n",
              " 'begini',\n",
              " 'beginian',\n",
              " 'beginikah',\n",
              " 'beginilah',\n",
              " 'begitu',\n",
              " 'begitukah',\n",
              " 'begitulah',\n",
              " 'begitupun',\n",
              " 'bekerja',\n",
              " 'belakang',\n",
              " 'belakangan',\n",
              " 'belum',\n",
              " 'belumlah',\n",
              " 'benar',\n",
              " 'benarkah',\n",
              " 'benarlah',\n",
              " 'berada',\n",
              " 'berakhir',\n",
              " 'berakhirlah',\n",
              " 'berakhirnya',\n",
              " 'berapa',\n",
              " 'berapakah',\n",
              " 'berapalah',\n",
              " 'berapapun',\n",
              " 'berarti',\n",
              " 'berawal',\n",
              " 'berbagai',\n",
              " 'berdatangan',\n",
              " 'beri',\n",
              " 'berikan',\n",
              " 'berikut',\n",
              " 'berikutnya',\n",
              " 'berjumlah',\n",
              " 'berkali-kali',\n",
              " 'berkata',\n",
              " 'berkehendak',\n",
              " 'berkeinginan',\n",
              " 'berkenaan',\n",
              " 'berlainan',\n",
              " 'berlalu',\n",
              " 'berlangsung',\n",
              " 'berlebihan',\n",
              " 'bermacam',\n",
              " 'bermacam-macam',\n",
              " 'bermaksud',\n",
              " 'bermula',\n",
              " 'bersama',\n",
              " 'bersama-sama',\n",
              " 'bersiap',\n",
              " 'bersiap-siap',\n",
              " 'bertanya',\n",
              " 'bertanya-tanya',\n",
              " 'berturut',\n",
              " 'berturut-turut',\n",
              " 'bertutur',\n",
              " 'berujar',\n",
              " 'berupa',\n",
              " 'besar',\n",
              " 'betul',\n",
              " 'betulkah',\n",
              " 'biasa',\n",
              " 'biasanya',\n",
              " 'bila',\n",
              " 'bilakah',\n",
              " 'bisa',\n",
              " 'bisakah',\n",
              " 'boleh',\n",
              " 'bolehkah',\n",
              " 'bolehlah',\n",
              " 'buat',\n",
              " 'bukan',\n",
              " 'bukankah',\n",
              " 'bukanlah',\n",
              " 'bukannya',\n",
              " 'bulan',\n",
              " 'bung',\n",
              " 'cara',\n",
              " 'caranya',\n",
              " 'cukup',\n",
              " 'cukupkah',\n",
              " 'cukuplah',\n",
              " 'cuma',\n",
              " 'dahulu',\n",
              " 'dalam',\n",
              " 'dan',\n",
              " 'dapat',\n",
              " 'dari',\n",
              " 'daripada',\n",
              " 'datang',\n",
              " 'dekat',\n",
              " 'demi',\n",
              " 'demikian',\n",
              " 'demikianlah',\n",
              " 'dengan',\n",
              " 'depan',\n",
              " 'di',\n",
              " 'dia',\n",
              " 'diakhiri',\n",
              " 'diakhirinya',\n",
              " 'dialah',\n",
              " 'diantara',\n",
              " 'diantaranya',\n",
              " 'diberi',\n",
              " 'diberikan',\n",
              " 'diberikannya',\n",
              " 'dibuat',\n",
              " 'dibuatnya',\n",
              " 'didapat',\n",
              " 'didatangkan',\n",
              " 'digunakan',\n",
              " 'diibaratkan',\n",
              " 'diibaratkannya',\n",
              " 'diingat',\n",
              " 'diingatkan',\n",
              " 'diinginkan',\n",
              " 'dijawab',\n",
              " 'dijelaskan',\n",
              " 'dijelaskannya',\n",
              " 'dikarenakan',\n",
              " 'dikatakan',\n",
              " 'dikatakannya',\n",
              " 'dikerjakan',\n",
              " 'diketahui',\n",
              " 'diketahuinya',\n",
              " 'dikira',\n",
              " 'dilakukan',\n",
              " 'dilalui',\n",
              " 'dilihat',\n",
              " 'dimaksud',\n",
              " 'dimaksudkan',\n",
              " 'dimaksudkannya',\n",
              " 'dimaksudnya',\n",
              " 'diminta',\n",
              " 'dimintai',\n",
              " 'dimisalkan',\n",
              " 'dimulai',\n",
              " 'dimulailah',\n",
              " 'dimulainya',\n",
              " 'dimungkinkan',\n",
              " 'dini',\n",
              " 'dipastikan',\n",
              " 'diperbuat',\n",
              " 'diperbuatnya',\n",
              " 'dipergunakan',\n",
              " 'diperkirakan',\n",
              " 'diperlihatkan',\n",
              " 'diperlukan',\n",
              " 'diperlukannya',\n",
              " 'dipersoalkan',\n",
              " 'dipertanyakan',\n",
              " 'dipunyai',\n",
              " 'diri',\n",
              " 'dirinya',\n",
              " 'disampaikan',\n",
              " 'disebut',\n",
              " 'disebutkan',\n",
              " 'disebutkannya',\n",
              " 'disini',\n",
              " 'disinilah',\n",
              " 'ditambahkan',\n",
              " 'ditandaskan',\n",
              " 'ditanya',\n",
              " 'ditanyai',\n",
              " 'ditanyakan',\n",
              " 'ditegaskan',\n",
              " 'ditujukan',\n",
              " 'ditunjuk',\n",
              " 'ditunjuki',\n",
              " 'ditunjukkan',\n",
              " 'ditunjukkannya',\n",
              " 'ditunjuknya',\n",
              " 'dituturkan',\n",
              " 'dituturkannya',\n",
              " 'diucapkan',\n",
              " 'diucapkannya',\n",
              " 'diungkapkan',\n",
              " 'dong',\n",
              " 'dua',\n",
              " 'dulu',\n",
              " 'empat',\n",
              " 'enggak',\n",
              " 'enggaknya',\n",
              " 'entah',\n",
              " 'entahlah',\n",
              " 'guna',\n",
              " 'gunakan',\n",
              " 'hal',\n",
              " 'hampir',\n",
              " 'hanya',\n",
              " 'hanyalah',\n",
              " 'hari',\n",
              " 'harus',\n",
              " 'haruslah',\n",
              " 'harusnya',\n",
              " 'hendak',\n",
              " 'hendaklah',\n",
              " 'hendaknya',\n",
              " 'hingga',\n",
              " 'ia',\n",
              " 'ialah',\n",
              " 'ibarat',\n",
              " 'ibaratkan',\n",
              " 'ibaratnya',\n",
              " 'ibu',\n",
              " 'ikut',\n",
              " 'ingat',\n",
              " 'ingat-ingat',\n",
              " 'ingin',\n",
              " 'inginkah',\n",
              " 'inginkan',\n",
              " 'ini',\n",
              " 'inikah',\n",
              " 'inilah',\n",
              " 'itu',\n",
              " 'itukah',\n",
              " 'itulah',\n",
              " 'jadi',\n",
              " 'jadilah',\n",
              " 'jadinya',\n",
              " 'jangan',\n",
              " 'jangankan',\n",
              " 'janganlah',\n",
              " 'jauh',\n",
              " 'jawab',\n",
              " 'jawaban',\n",
              " 'jawabnya',\n",
              " 'jelas',\n",
              " 'jelaskan',\n",
              " 'jelaslah',\n",
              " 'jelasnya',\n",
              " 'jika',\n",
              " 'jikalau',\n",
              " 'juga',\n",
              " 'jumlah',\n",
              " 'jumlahnya',\n",
              " 'justru',\n",
              " 'kala',\n",
              " 'kalau',\n",
              " 'kalaulah',\n",
              " 'kalaupun',\n",
              " 'kalian',\n",
              " 'kami',\n",
              " 'kamilah',\n",
              " 'kamu',\n",
              " 'kamulah',\n",
              " 'kan',\n",
              " 'kapan',\n",
              " 'kapankah',\n",
              " 'kapanpun',\n",
              " 'karena',\n",
              " 'karenanya',\n",
              " 'kasus',\n",
              " 'kata',\n",
              " 'katakan',\n",
              " 'katakanlah',\n",
              " 'katanya',\n",
              " 'ke',\n",
              " 'keadaan',\n",
              " 'kebetulan',\n",
              " 'kecil',\n",
              " 'kedua',\n",
              " 'keduanya',\n",
              " 'keinginan',\n",
              " 'kelamaan',\n",
              " 'kelihatan',\n",
              " 'kelihatannya',\n",
              " 'kelima',\n",
              " 'keluar',\n",
              " 'kembali',\n",
              " 'kemudian',\n",
              " 'kemungkinan',\n",
              " 'kemungkinannya',\n",
              " 'kenapa',\n",
              " 'kepada',\n",
              " 'kepadanya',\n",
              " 'kesampaian',\n",
              " 'keseluruhan',\n",
              " 'keseluruhannya',\n",
              " 'keterlaluan',\n",
              " 'ketika',\n",
              " 'khususnya',\n",
              " 'kini',\n",
              " 'kinilah',\n",
              " 'kira',\n",
              " 'kira-kira',\n",
              " 'kiranya',\n",
              " 'kita',\n",
              " 'kitalah',\n",
              " 'kok',\n",
              " 'kurang',\n",
              " 'lagi',\n",
              " 'lagian',\n",
              " 'lah',\n",
              " 'lain',\n",
              " 'lainnya',\n",
              " 'lalu',\n",
              " 'lama',\n",
              " 'lamanya',\n",
              " 'lanjut',\n",
              " 'lanjutnya',\n",
              " 'lebih',\n",
              " 'lewat',\n",
              " 'lima',\n",
              " 'luar',\n",
              " 'macam',\n",
              " 'maka',\n",
              " 'makanya',\n",
              " 'makin',\n",
              " 'malah',\n",
              " 'malahan',\n",
              " 'mampu',\n",
              " 'mampukah',\n",
              " 'mana',\n",
              " 'manakala',\n",
              " 'manalagi',\n",
              " 'masa',\n",
              " 'masalah',\n",
              " 'masalahnya',\n",
              " 'masih',\n",
              " 'masihkah',\n",
              " 'masing',\n",
              " 'masing-masing',\n",
              " 'mau',\n",
              " 'maupun',\n",
              " 'melainkan',\n",
              " 'melakukan',\n",
              " 'melalui',\n",
              " 'melihat',\n",
              " 'melihatnya',\n",
              " 'memang',\n",
              " 'memastikan',\n",
              " 'memberi',\n",
              " 'memberikan',\n",
              " 'membuat',\n",
              " 'memerlukan',\n",
              " 'memihak',\n",
              " 'meminta',\n",
              " 'memintakan',\n",
              " 'memisalkan',\n",
              " 'memperbuat',\n",
              " 'mempergunakan',\n",
              " 'memperkirakan',\n",
              " 'memperlihatkan',\n",
              " 'mempersiapkan',\n",
              " 'mempersoalkan',\n",
              " 'mempertanyakan',\n",
              " 'mempunyai',\n",
              " 'memulai',\n",
              " 'memungkinkan',\n",
              " 'menaiki',\n",
              " 'menambahkan',\n",
              " 'menandaskan',\n",
              " 'menanti',\n",
              " 'menanti-nanti',\n",
              " 'menantikan',\n",
              " 'menanya',\n",
              " 'menanyai',\n",
              " 'menanyakan',\n",
              " 'mendapat',\n",
              " 'mendapatkan',\n",
              " 'mendatang',\n",
              " 'mendatangi',\n",
              " 'mendatangkan',\n",
              " 'menegaskan',\n",
              " 'mengakhiri',\n",
              " 'mengapa',\n",
              " 'mengatakan',\n",
              " 'mengatakannya',\n",
              " 'mengenai',\n",
              " 'mengerjakan',\n",
              " 'mengetahui',\n",
              " 'menggunakan',\n",
              " 'menghendaki',\n",
              " 'mengibaratkan',\n",
              " 'mengibaratkannya',\n",
              " 'mengingat',\n",
              " 'mengingatkan',\n",
              " 'menginginkan',\n",
              " 'mengira',\n",
              " 'mengucapkan',\n",
              " 'mengucapkannya',\n",
              " 'mengungkapkan',\n",
              " 'menjadi',\n",
              " 'menjawab',\n",
              " 'menjelaskan',\n",
              " 'menuju',\n",
              " 'menunjuk',\n",
              " 'menunjuki',\n",
              " 'menunjukkan',\n",
              " 'menunjuknya',\n",
              " 'menurut',\n",
              " 'menuturkan',\n",
              " 'menyampaikan',\n",
              " 'menyangkut',\n",
              " 'menyatakan',\n",
              " 'menyebutkan',\n",
              " 'menyeluruh',\n",
              " 'menyiapkan',\n",
              " 'merasa',\n",
              " 'mereka',\n",
              " 'merekalah',\n",
              " 'merupakan',\n",
              " 'meski',\n",
              " 'meskipun',\n",
              " 'meyakini',\n",
              " 'meyakinkan',\n",
              " 'minta',\n",
              " 'mirip',\n",
              " 'misal',\n",
              " 'misalkan',\n",
              " 'misalnya',\n",
              " 'mula',\n",
              " 'mulai',\n",
              " 'mulailah',\n",
              " 'mulanya',\n",
              " 'mungkin',\n",
              " 'mungkinkah',\n",
              " 'nah',\n",
              " 'naik',\n",
              " 'namun',\n",
              " 'nanti',\n",
              " 'nantinya',\n",
              " 'nyaris',\n",
              " 'nyatanya',\n",
              " 'oleh',\n",
              " 'olehnya',\n",
              " 'pada',\n",
              " 'padahal',\n",
              " 'padanya',\n",
              " 'pak',\n",
              " 'paling',\n",
              " 'panjang',\n",
              " 'pantas',\n",
              " 'para',\n",
              " 'pasti',\n",
              " 'pastilah',\n",
              " 'penting',\n",
              " 'pentingnya',\n",
              " 'per',\n",
              " 'percuma',\n",
              " 'perlu',\n",
              " 'perlukah',\n",
              " 'perlunya',\n",
              " 'pernah',\n",
              " 'persoalan',\n",
              " 'pertama',\n",
              " 'pertama-tama',\n",
              " 'pertanyaan',\n",
              " 'pertanyakan',\n",
              " 'pihak',\n",
              " 'pihaknya',\n",
              " 'pukul',\n",
              " 'pula',\n",
              " 'pun',\n",
              " 'punya',\n",
              " 'rasa',\n",
              " 'rasanya',\n",
              " 'rata',\n",
              " 'rupanya',\n",
              " 'saat',\n",
              " 'saatnya',\n",
              " 'saja',\n",
              " 'sajalah',\n",
              " 'saling',\n",
              " 'sama',\n",
              " 'sama-sama',\n",
              " 'sambil',\n",
              " 'sampai',\n",
              " 'sampai-sampai',\n",
              " 'sampaikan',\n",
              " 'sana',\n",
              " 'sangat',\n",
              " 'sangatlah',\n",
              " 'satu',\n",
              " 'saya',\n",
              " 'sayalah',\n",
              " 'se',\n",
              " 'sebab',\n",
              " 'sebabnya',\n",
              " 'sebagai',\n",
              " 'sebagaimana',\n",
              " 'sebagainya',\n",
              " 'sebagian',\n",
              " 'sebaik',\n",
              " 'sebaik-baiknya',\n",
              " 'sebaiknya',\n",
              " 'sebaliknya',\n",
              " 'sebanyak',\n",
              " 'sebegini',\n",
              " 'sebegitu',\n",
              " 'sebelum',\n",
              " 'sebelumnya',\n",
              " 'sebenarnya',\n",
              " 'seberapa',\n",
              " 'sebesar',\n",
              " 'sebetulnya',\n",
              " 'sebisanya',\n",
              " 'sebuah',\n",
              " 'sebut',\n",
              " 'sebutlah',\n",
              " 'sebutnya',\n",
              " 'secara',\n",
              " 'secukupnya',\n",
              " 'sedang',\n",
              " 'sedangkan',\n",
              " 'sedemikian',\n",
              " 'sedikit',\n",
              " 'sedikitnya',\n",
              " 'seenaknya',\n",
              " 'segala',\n",
              " 'segalanya',\n",
              " 'segera',\n",
              " 'seharusnya',\n",
              " 'sehingga',\n",
              " 'seingat',\n",
              " 'sejak',\n",
              " 'sejauh',\n",
              " 'sejenak',\n",
              " 'sejumlah',\n",
              " 'sekadar',\n",
              " 'sekadarnya',\n",
              " 'sekali',\n",
              " 'sekali-kali',\n",
              " 'sekalian',\n",
              " 'sekaligus',\n",
              " 'sekalipun',\n",
              " 'sekarang',\n",
              " 'sekarang',\n",
              " 'sekecil',\n",
              " 'seketika',\n",
              " 'sekiranya',\n",
              " 'sekitar',\n",
              " 'sekitarnya',\n",
              " 'sekurang-kurangnya',\n",
              " 'sekurangnya',\n",
              " 'sela',\n",
              " 'selain',\n",
              " 'selaku',\n",
              " 'selalu',\n",
              " 'selama',\n",
              " 'selama-lamanya',\n",
              " 'selamanya',\n",
              " 'selanjutnya',\n",
              " 'seluruh',\n",
              " 'seluruhnya',\n",
              " 'semacam',\n",
              " 'semakin',\n",
              " 'semampu',\n",
              " 'semampunya',\n",
              " 'semasa',\n",
              " 'semasih',\n",
              " 'semata',\n",
              " 'semata-mata',\n",
              " 'semaunya',\n",
              " 'sementara',\n",
              " 'semisal',\n",
              " 'semisalnya',\n",
              " 'sempat',\n",
              " 'semua',\n",
              " 'semuanya',\n",
              " 'semula',\n",
              " 'sendiri',\n",
              " 'sendirian',\n",
              " 'sendirinya',\n",
              " 'seolah',\n",
              " 'seolah-olah',\n",
              " 'seorang',\n",
              " 'sepanjang',\n",
              " 'sepantasnya',\n",
              " 'sepantasnyalah',\n",
              " 'seperlunya',\n",
              " 'seperti',\n",
              " 'sepertinya',\n",
              " 'sepihak',\n",
              " 'sering',\n",
              " 'seringnya',\n",
              " 'serta',\n",
              " 'serupa',\n",
              " 'sesaat',\n",
              " 'sesama',\n",
              " 'sesampai',\n",
              " 'sesegera',\n",
              " 'sesekali',\n",
              " 'seseorang',\n",
              " 'sesuatu',\n",
              " 'sesuatunya',\n",
              " 'sesudah',\n",
              " 'sesudahnya',\n",
              " 'setelah',\n",
              " 'setempat',\n",
              " 'setengah',\n",
              " 'seterusnya',\n",
              " 'setiap',\n",
              " 'setiba',\n",
              " 'setibanya',\n",
              " 'setidak-tidaknya',\n",
              " 'setidaknya',\n",
              " 'setinggi',\n",
              " 'seusai',\n",
              " 'sewaktu',\n",
              " 'siap',\n",
              " 'siapa',\n",
              " 'siapakah',\n",
              " 'siapapun',\n",
              " 'sini',\n",
              " 'sinilah',\n",
              " 'soal',\n",
              " 'soalnya',\n",
              " 'suatu',\n",
              " 'sudah',\n",
              " 'sudahkah',\n",
              " 'sudahlah',\n",
              " 'supaya',\n",
              " 'tadi',\n",
              " 'tadinya',\n",
              " 'tahu',\n",
              " 'tahun',\n",
              " 'tak',\n",
              " 'tambah',\n",
              " 'tambahnya',\n",
              " 'tampak',\n",
              " 'tampaknya',\n",
              " 'tandas',\n",
              " 'tandasnya',\n",
              " 'tanpa',\n",
              " 'tanya',\n",
              " 'tanyakan',\n",
              " 'tanyanya',\n",
              " 'tapi',\n",
              " 'tegas',\n",
              " 'tegasnya',\n",
              " 'telah',\n",
              " 'tempat',\n",
              " 'tengah',\n",
              " 'tentang',\n",
              " 'tentu',\n",
              " 'tentulah',\n",
              " 'tentunya',\n",
              " 'tepat',\n",
              " 'terakhir',\n",
              " 'terasa',\n",
              " 'terbanyak',\n",
              " 'terdahulu',\n",
              " 'terdapat',\n",
              " 'terdiri',\n",
              " 'terhadap',\n",
              " 'terhadapnya',\n",
              " 'teringat',\n",
              " 'teringat-ingat',\n",
              " 'terjadi',\n",
              " 'terjadilah',\n",
              " 'terjadinya',\n",
              " 'terkira',\n",
              " 'terlalu',\n",
              " 'terlebih',\n",
              " 'terlihat',\n",
              " 'termasuk',\n",
              " 'ternyata',\n",
              " 'tersampaikan',\n",
              " 'tersebut',\n",
              " 'tersebutlah',\n",
              " 'tertentu',\n",
              " 'tertuju',\n",
              " 'terus',\n",
              " 'terutama',\n",
              " 'tetap',\n",
              " 'tetapi',\n",
              " 'tiap',\n",
              " 'tiba',\n",
              " 'tiba-tiba',\n",
              " 'tidak',\n",
              " 'tidakkah',\n",
              " 'tidaklah',\n",
              " 'tiga',\n",
              " 'tinggi',\n",
              " 'toh',\n",
              " 'tunjuk',\n",
              " 'turut',\n",
              " 'tutur',\n",
              " 'tuturnya',\n",
              " 'ucap',\n",
              " 'ucapnya',\n",
              " 'ujar',\n",
              " 'ujarnya',\n",
              " 'umum',\n",
              " 'umumnya',\n",
              " 'ungkap',\n",
              " 'ungkapnya',\n",
              " 'untuk',\n",
              " 'usah',\n",
              " 'usai',\n",
              " 'waduh',\n",
              " 'wah',\n",
              " 'wahai',\n",
              " 'waktu',\n",
              " 'waktunya',\n",
              " 'walau',\n",
              " 'walaupun',\n",
              " 'wong',\n",
              " 'yaitu',\n",
              " 'yakin',\n",
              " 'yakni',\n",
              " 'yang']"
            ]
          },
          "metadata": {},
          "execution_count": 20
        }
      ]
    },
    {
      "cell_type": "code",
      "source": [
        "meaningless = pd.read_csv(\"new_stopword.csv\",header=None,names=['stopword'])\n",
        "\n",
        "stop_words = list(stopwords.words('indonesian')) + list(stopwords.words('english'))\n",
        "\n",
        "meaningless = meaningless['stopword'].tolist()\n",
        "meaningless = meaningless + stop_words"
      ],
      "metadata": {
        "id": "Zn92O1ykWXAp"
      },
      "execution_count": null,
      "outputs": []
    },
    {
      "cell_type": "code",
      "source": [
        "def removeMeaningless(data,meaningless_):\n",
        "    for word in meaningless_:\n",
        "        regex_meaningless = r\"\\b\" + word + r\"\\b\"\n",
        "        data['Rekomendasi_Parsed_4'] = data['Rekomendasi_Parsed_4'].str.replace(regex_meaningless, '')\n",
        "    return data"
      ],
      "metadata": {
        "id": "1qFS-gtCWXAq"
      },
      "execution_count": null,
      "outputs": []
    },
    {
      "cell_type": "code",
      "source": [
        "data = removeMeaningless(data,meaningless)\n",
        "data['Rekomendasi_Parsed_4'].head()"
      ],
      "metadata": {
        "id": "LAx-17B7WXAq",
        "colab": {
          "base_uri": "https://localhost:8080/"
        },
        "outputId": "cfea60b4-020e-4d22-af8e-ee1b64f79c32"
      },
      "execution_count": null,
      "outputs": [
        {
          "output_type": "execute_result",
          "data": {
            "text/plain": [
              "0    pembelajaran   dilaksanakan  klasikal  metode ...\n",
              "1    penetapan jadwal pelatihan   mengakomodasi keb...\n",
              "2    materi  ditambah  terkait blu  sakti  pengerja...\n",
              "3     disediakan mikrofon  pengajar   pengajar kual...\n",
              "4      materi terkait aplikasi  diperbanyak praktiknya\n",
              "Name: Rekomendasi_Parsed_4, dtype: object"
            ]
          },
          "metadata": {},
          "execution_count": 23
        }
      ]
    },
    {
      "cell_type": "code",
      "source": [
        "print(data['Rekomendasi_Parsed_4'].loc[35])"
      ],
      "metadata": {
        "id": "feqo8pAlU9yh",
        "colab": {
          "base_uri": "https://localhost:8080/"
        },
        "outputId": "03f7eb2e-39d5-446f-f9cb-6fae42cf124c"
      },
      "execution_count": null,
      "outputs": [
        {
          "output_type": "stream",
          "name": "stdout",
          "text": [
            " error aplikasi via handphone aplikasi store apple    kuis\n"
          ]
        }
      ]
    },
    {
      "cell_type": "markdown",
      "source": [
        "7. Menghilangkan imbuhan (*stemming*)"
      ],
      "metadata": {
        "id": "92sm3utqWXAq"
      }
    },
    {
      "cell_type": "code",
      "source": [
        "wordnet_lemmatizer = WordNetLemmatizer()\n",
        "factory = StemmerFactory()\n",
        "stemmerID = factory.create_stemmer()"
      ],
      "metadata": {
        "id": "XgNeYKJwWXAq"
      },
      "execution_count": null,
      "outputs": []
    },
    {
      "cell_type": "code",
      "source": [
        "def stemming(text, stemmer_id):\n",
        "    text_split = text.split(\" \")\n",
        "    stemmed_list = []\n",
        "    for i in text_split:\n",
        "        stem_text1 = stemmer_id.stem(i)\n",
        "        stemmed_list.append(stem_text1)\n",
        "    stemmed = ' '.join(map(str,stemmed_list))\n",
        "    return stemmed\n",
        "\n",
        "def stemData(data, stemmer_id):\n",
        "    data['Rekomendasi_Parsed_5'] = data['Rekomendasi_Parsed_4']\n",
        "    data['Rekomendasi_Parsed_5'] = data['Rekomendasi_Parsed_5'].map(lambda com : stemming(com,stemmer_id))\n",
        "    return data"
      ],
      "metadata": {
        "id": "GkZWvWzWWXAr"
      },
      "execution_count": null,
      "outputs": []
    },
    {
      "cell_type": "code",
      "source": [
        "data = stemData(data, stemmerID)\n",
        "data['Rekomendasi_Parsed_5'].head()"
      ],
      "metadata": {
        "id": "d1ty1FbZWXAr",
        "colab": {
          "base_uri": "https://localhost:8080/"
        },
        "outputId": "77c9e548-f8d1-4bcc-991a-e5569a4ec50a"
      },
      "execution_count": null,
      "outputs": [
        {
          "output_type": "execute_result",
          "data": {
            "text/plain": [
              "0    ajar   laksana  klasikal  metode pjj  efektif ...\n",
              "1    tetap jadwal latih   akomodasi butuh  istiraha...\n",
              "2    materi  tambah  kait blu  sakti  kerja lpj ben...\n",
              "3     sedia mikrofon  ajar   ajar kualitas audio  b...\n",
              "4                 materi kait aplikasi  banyak praktik\n",
              "Name: Rekomendasi_Parsed_5, dtype: object"
            ]
          },
          "metadata": {},
          "execution_count": 27
        }
      ]
    },
    {
      "cell_type": "code",
      "source": [
        "print(data['Rekomendasi_Parsed_5'].loc[35])"
      ],
      "metadata": {
        "id": "dBh1a5NvVAs5",
        "colab": {
          "base_uri": "https://localhost:8080/"
        },
        "outputId": "83e7c8ff-15b0-4dfa-dcb1-99d63ba55fb3"
      },
      "execution_count": null,
      "outputs": [
        {
          "output_type": "stream",
          "name": "stdout",
          "text": [
            " error aplikasi via handphone aplikasi store apple    kuis\n"
          ]
        }
      ]
    },
    {
      "cell_type": "markdown",
      "source": [
        "***Fixing Data***"
      ],
      "metadata": {
        "id": "eaqWAZVQWXAr"
      }
    },
    {
      "cell_type": "code",
      "source": [
        "def fixData(data, stemming=True, stopword=True):\n",
        "    if stopword == True:\n",
        "        data_fix = data.drop(['Rekomendasi_Parsed_1', 'Rekomendasi_Parsed_2','Rekomendasi_Parsed_3','Rekomendasi_Parsed_4'],axis=1)\n",
        "        data_fix = data_fix.rename(columns={'Rekomendasi_Parsed_5': 'Rekomendasi_Parsed'})\n",
        "    elif stemming == True:\n",
        "        data_fix = data.drop(['Rekomendasi_Parsed_1', 'Rekomendasi_Parsed_2','Rekomendasi_Parsed_3','Rekomendasi_Parsed_5'],axis=1)\n",
        "        data_fix = data_fix.rename(columns={'Rekomendasi_Parsed_4': 'Rekomendasi_Parsed'})\n",
        "    else:\n",
        "        data_fix = data.drop(['Rekomendasi_Parsed_1', 'Rekomendasi_Parsed_2','Rekomendasi_Parsed_4', 'Rekomendasi_Parsed_5'],axis=1)\n",
        "        data_fix = data_fix.rename(columns={'Rekomendasi_Parsed_3': 'Rekomendasi_Parsed'})\n",
        "    return data_fix"
      ],
      "metadata": {
        "id": "IjdNkm5DWXAr"
      },
      "execution_count": null,
      "outputs": []
    },
    {
      "cell_type": "code",
      "source": [
        "data = fixData(data,stemming=True,stopword=True)\n",
        "data.head()"
      ],
      "metadata": {
        "id": "jtmnqzOjWXAs",
        "colab": {
          "base_uri": "https://localhost:8080/",
          "height": 337
        },
        "outputId": "fdf0700b-5d06-45d1-bf0a-1278cf06d21b"
      },
      "execution_count": null,
      "outputs": [
        {
          "output_type": "execute_result",
          "data": {
            "text/plain": [
              "                                         Rekomendasi   Bidang  Non  PMPS  \\\n",
              "0  Pembelajaran lebih baik dilaksanakan secara kl...      Non    1     0   \n",
              "1  Penetapan jadwal pelatihan dapat lebih mengako...      Non    1     0   \n",
              "2  Materi perlu ditambah terutama terkait  BLU da...  Renbang    0     0   \n",
              "3  Perlu disediakan mikrofon untuk pengajar karen...      Non    1     0   \n",
              "4  Materi terkait aplikasi lebih diperbanyak prak...  Renbang    0     0   \n",
              "\n",
              "   Penyelenggaraan  Renbang  TU  \\\n",
              "0                0        0   0   \n",
              "1                0        0   0   \n",
              "2                0        1   0   \n",
              "3                0        0   0   \n",
              "4                0        1   0   \n",
              "\n",
              "                                  Rekomendasi_Parsed  \n",
              "0  ajar   laksana  klasikal  metode pjj  efektif ...  \n",
              "1  tetap jadwal latih   akomodasi butuh  istiraha...  \n",
              "2  materi  tambah  kait blu  sakti  kerja lpj ben...  \n",
              "3   sedia mikrofon  ajar   ajar kualitas audio  b...  \n",
              "4               materi kait aplikasi  banyak praktik  "
            ],
            "text/html": [
              "\n",
              "  <div id=\"df-3e7593b0-c252-4d51-89bf-054a855590bb\">\n",
              "    <div class=\"colab-df-container\">\n",
              "      <div>\n",
              "<style scoped>\n",
              "    .dataframe tbody tr th:only-of-type {\n",
              "        vertical-align: middle;\n",
              "    }\n",
              "\n",
              "    .dataframe tbody tr th {\n",
              "        vertical-align: top;\n",
              "    }\n",
              "\n",
              "    .dataframe thead th {\n",
              "        text-align: right;\n",
              "    }\n",
              "</style>\n",
              "<table border=\"1\" class=\"dataframe\">\n",
              "  <thead>\n",
              "    <tr style=\"text-align: right;\">\n",
              "      <th></th>\n",
              "      <th>Rekomendasi</th>\n",
              "      <th>Bidang</th>\n",
              "      <th>Non</th>\n",
              "      <th>PMPS</th>\n",
              "      <th>Penyelenggaraan</th>\n",
              "      <th>Renbang</th>\n",
              "      <th>TU</th>\n",
              "      <th>Rekomendasi_Parsed</th>\n",
              "    </tr>\n",
              "  </thead>\n",
              "  <tbody>\n",
              "    <tr>\n",
              "      <th>0</th>\n",
              "      <td>Pembelajaran lebih baik dilaksanakan secara kl...</td>\n",
              "      <td>Non</td>\n",
              "      <td>1</td>\n",
              "      <td>0</td>\n",
              "      <td>0</td>\n",
              "      <td>0</td>\n",
              "      <td>0</td>\n",
              "      <td>ajar   laksana  klasikal  metode pjj  efektif ...</td>\n",
              "    </tr>\n",
              "    <tr>\n",
              "      <th>1</th>\n",
              "      <td>Penetapan jadwal pelatihan dapat lebih mengako...</td>\n",
              "      <td>Non</td>\n",
              "      <td>1</td>\n",
              "      <td>0</td>\n",
              "      <td>0</td>\n",
              "      <td>0</td>\n",
              "      <td>0</td>\n",
              "      <td>tetap jadwal latih   akomodasi butuh  istiraha...</td>\n",
              "    </tr>\n",
              "    <tr>\n",
              "      <th>2</th>\n",
              "      <td>Materi perlu ditambah terutama terkait  BLU da...</td>\n",
              "      <td>Renbang</td>\n",
              "      <td>0</td>\n",
              "      <td>0</td>\n",
              "      <td>0</td>\n",
              "      <td>1</td>\n",
              "      <td>0</td>\n",
              "      <td>materi  tambah  kait blu  sakti  kerja lpj ben...</td>\n",
              "    </tr>\n",
              "    <tr>\n",
              "      <th>3</th>\n",
              "      <td>Perlu disediakan mikrofon untuk pengajar karen...</td>\n",
              "      <td>Non</td>\n",
              "      <td>1</td>\n",
              "      <td>0</td>\n",
              "      <td>0</td>\n",
              "      <td>0</td>\n",
              "      <td>0</td>\n",
              "      <td>sedia mikrofon  ajar   ajar kualitas audio  b...</td>\n",
              "    </tr>\n",
              "    <tr>\n",
              "      <th>4</th>\n",
              "      <td>Materi terkait aplikasi lebih diperbanyak prak...</td>\n",
              "      <td>Renbang</td>\n",
              "      <td>0</td>\n",
              "      <td>0</td>\n",
              "      <td>0</td>\n",
              "      <td>1</td>\n",
              "      <td>0</td>\n",
              "      <td>materi kait aplikasi  banyak praktik</td>\n",
              "    </tr>\n",
              "  </tbody>\n",
              "</table>\n",
              "</div>\n",
              "      <button class=\"colab-df-convert\" onclick=\"convertToInteractive('df-3e7593b0-c252-4d51-89bf-054a855590bb')\"\n",
              "              title=\"Convert this dataframe to an interactive table.\"\n",
              "              style=\"display:none;\">\n",
              "        \n",
              "  <svg xmlns=\"http://www.w3.org/2000/svg\" height=\"24px\"viewBox=\"0 0 24 24\"\n",
              "       width=\"24px\">\n",
              "    <path d=\"M0 0h24v24H0V0z\" fill=\"none\"/>\n",
              "    <path d=\"M18.56 5.44l.94 2.06.94-2.06 2.06-.94-2.06-.94-.94-2.06-.94 2.06-2.06.94zm-11 1L8.5 8.5l.94-2.06 2.06-.94-2.06-.94L8.5 2.5l-.94 2.06-2.06.94zm10 10l.94 2.06.94-2.06 2.06-.94-2.06-.94-.94-2.06-.94 2.06-2.06.94z\"/><path d=\"M17.41 7.96l-1.37-1.37c-.4-.4-.92-.59-1.43-.59-.52 0-1.04.2-1.43.59L10.3 9.45l-7.72 7.72c-.78.78-.78 2.05 0 2.83L4 21.41c.39.39.9.59 1.41.59.51 0 1.02-.2 1.41-.59l7.78-7.78 2.81-2.81c.8-.78.8-2.07 0-2.86zM5.41 20L4 18.59l7.72-7.72 1.47 1.35L5.41 20z\"/>\n",
              "  </svg>\n",
              "      </button>\n",
              "      \n",
              "  <style>\n",
              "    .colab-df-container {\n",
              "      display:flex;\n",
              "      flex-wrap:wrap;\n",
              "      gap: 12px;\n",
              "    }\n",
              "\n",
              "    .colab-df-convert {\n",
              "      background-color: #E8F0FE;\n",
              "      border: none;\n",
              "      border-radius: 50%;\n",
              "      cursor: pointer;\n",
              "      display: none;\n",
              "      fill: #1967D2;\n",
              "      height: 32px;\n",
              "      padding: 0 0 0 0;\n",
              "      width: 32px;\n",
              "    }\n",
              "\n",
              "    .colab-df-convert:hover {\n",
              "      background-color: #E2EBFA;\n",
              "      box-shadow: 0px 1px 2px rgba(60, 64, 67, 0.3), 0px 1px 3px 1px rgba(60, 64, 67, 0.15);\n",
              "      fill: #174EA6;\n",
              "    }\n",
              "\n",
              "    [theme=dark] .colab-df-convert {\n",
              "      background-color: #3B4455;\n",
              "      fill: #D2E3FC;\n",
              "    }\n",
              "\n",
              "    [theme=dark] .colab-df-convert:hover {\n",
              "      background-color: #434B5C;\n",
              "      box-shadow: 0px 1px 3px 1px rgba(0, 0, 0, 0.15);\n",
              "      filter: drop-shadow(0px 1px 2px rgba(0, 0, 0, 0.3));\n",
              "      fill: #FFFFFF;\n",
              "    }\n",
              "  </style>\n",
              "\n",
              "      <script>\n",
              "        const buttonEl =\n",
              "          document.querySelector('#df-3e7593b0-c252-4d51-89bf-054a855590bb button.colab-df-convert');\n",
              "        buttonEl.style.display =\n",
              "          google.colab.kernel.accessAllowed ? 'block' : 'none';\n",
              "\n",
              "        async function convertToInteractive(key) {\n",
              "          const element = document.querySelector('#df-3e7593b0-c252-4d51-89bf-054a855590bb');\n",
              "          const dataTable =\n",
              "            await google.colab.kernel.invokeFunction('convertToInteractive',\n",
              "                                                     [key], {});\n",
              "          if (!dataTable) return;\n",
              "\n",
              "          const docLinkHtml = 'Like what you see? Visit the ' +\n",
              "            '<a target=\"_blank\" href=https://colab.research.google.com/notebooks/data_table.ipynb>data table notebook</a>'\n",
              "            + ' to learn more about interactive tables.';\n",
              "          element.innerHTML = '';\n",
              "          dataTable['output_type'] = 'display_data';\n",
              "          await google.colab.output.renderOutput(dataTable, element);\n",
              "          const docLink = document.createElement('div');\n",
              "          docLink.innerHTML = docLinkHtml;\n",
              "          element.appendChild(docLink);\n",
              "        }\n",
              "      </script>\n",
              "    </div>\n",
              "  </div>\n",
              "  "
            ]
          },
          "metadata": {},
          "execution_count": 30
        }
      ]
    },
    {
      "cell_type": "code",
      "source": [
        "print(data['Rekomendasi_Parsed'].loc[11])"
      ],
      "metadata": {
        "id": "qKSrft6Jd1va",
        "colab": {
          "base_uri": "https://localhost:8080/"
        },
        "outputId": "0c80f871-c313-4702-d772-c74e14e24ed2"
      },
      "execution_count": null,
      "outputs": [
        {
          "output_type": "stream",
          "name": "stdout",
          "text": [
            "usul     porsi praktik contoh contoh  konkret best practise      mudah   implementasi  kantor   \n"
          ]
        }
      ]
    },
    {
      "cell_type": "markdown",
      "source": [
        "**Contoh perbandingan rekomendasi asli dengan hasil *text cleaning***"
      ],
      "metadata": {
        "id": "1fAsAMhJWXAs"
      }
    },
    {
      "cell_type": "code",
      "source": [
        "print(data['Rekomendasi_Parsed'].loc[35])"
      ],
      "metadata": {
        "id": "rHKv4f5pScfx",
        "colab": {
          "base_uri": "https://localhost:8080/"
        },
        "outputId": "f6c0cad7-16be-46f8-d2bc-85abb9f95c6f"
      },
      "execution_count": null,
      "outputs": [
        {
          "output_type": "stream",
          "name": "stdout",
          "text": [
            " error aplikasi via handphone aplikasi store apple    kuis\n"
          ]
        }
      ]
    },
    {
      "cell_type": "code",
      "source": [
        "#Rekomendasi asli\n",
        "print(data['Rekomendasi'].loc[0])\n",
        "\n",
        "#Rekomendasi hasil pre-processing\n",
        "print(data['Rekomendasi_Parsed'].loc[0])"
      ],
      "metadata": {
        "id": "RnOu8555WXAs",
        "colab": {
          "base_uri": "https://localhost:8080/"
        },
        "outputId": "af0b9093-0668-4f24-9997-beb8c8ff4707"
      },
      "execution_count": null,
      "outputs": [
        {
          "output_type": "stream",
          "name": "stdout",
          "text": [
            "Pembelajaran lebih baik dilaksanakan secara klasikal karena metode PJJ tidak efektif disebabkan peserta masih melaksanakan pekerjaan rutin\n",
            "ajar   laksana  klasikal  metode pjj  efektif sebab serta  laksana kerja rutin\n"
          ]
        }
      ]
    },
    {
      "cell_type": "markdown",
      "source": [
        "#Word Cloud"
      ],
      "metadata": {
        "id": "nBeU1HK-scLl"
      }
    },
    {
      "cell_type": "markdown",
      "source": [
        "Word cloud adalah visualisasi dari kumpulan kata dari berbagai dokumen pada satu dataset. Ukuran kata yang terdapat di dalam word cloud berbagai macam mulai dari kecil hingga besar, semakin besar ukuran suatu kata maka semakin sering kata tersebut muncul di berbagai dokumen."
      ],
      "metadata": {
        "id": "jEDmUdlU8ZGd"
      }
    },
    {
      "cell_type": "code",
      "source": [
        "wordcloud = WordCloud(background_color='white',max_words=200,max_font_size=45,random_state=42).generate(str(data['Rekomendasi_Parsed']))\n",
        "\n",
        "print(wordcloud)\n",
        "fig = plt.figure(1)\n",
        "plt.imshow(wordcloud)\n",
        "plt.axis('off')\n",
        "plt.show()"
      ],
      "metadata": {
        "id": "1H_afidIseT7",
        "colab": {
          "base_uri": "https://localhost:8080/"
        },
        "outputId": "31d73fc9-6d29-4a81-ee8a-bc8e6e2534c4"
      },
      "execution_count": null,
      "outputs": [
        {
          "output_type": "stream",
          "name": "stdout",
          "text": [
            "<wordcloud.wordcloud.WordCloud object at 0x7f22e56050f0>\n"
          ]
        },
        {
          "output_type": "display_data",
          "data": {
            "text/plain": [
              "<Figure size 640x480 with 1 Axes>"
            ],
            "image/png": "[encoded data removed]"
          },
          "metadata": {}
        }
      ]
    },
    {
      "cell_type": "markdown",
      "source": [
        "#Encoding"
      ],
      "metadata": {
        "id": "Nosz8tNDfhAD"
      }
    },
    {
      "cell_type": "code",
      "source": [
        "# Import label encoder\n",
        "from sklearn import preprocessing\n",
        "\n",
        "# label_encoder object knows how to understand word labels.\n",
        "label_encoder = preprocessing.LabelEncoder()"
      ],
      "metadata": {
        "id": "kFv3pRokar-g"
      },
      "execution_count": null,
      "outputs": []
    },
    {
      "cell_type": "code",
      "source": [
        "# Encode labels in column 'Bidang'.\n",
        "data['Bidang_ID']= label_encoder.fit_transform(data['Bidang'])"
      ],
      "metadata": {
        "id": "Q36KAFgkYF_-"
      },
      "execution_count": null,
      "outputs": []
    },
    {
      "cell_type": "markdown",
      "source": [
        "#Pembobotan Kata dan Analisis"
      ],
      "metadata": {
        "id": "4oATrfr5Et5A"
      }
    },
    {
      "cell_type": "markdown",
      "source": [
        "##BoW"
      ],
      "metadata": {
        "id": "WfpQgErVWXAw"
      }
    },
    {
      "cell_type": "markdown",
      "source": [
        "Bag of Words adalah sebuah model yang mempelajari sebuah kosakata dari seluruh dokumen, lalu memodelkan tiap dokumen dengan menghitung jumlah kemunculan setiap kata."
      ],
      "metadata": {
        "id": "gsNK6RV48S1F"
      }
    },
    {
      "cell_type": "code",
      "source": [
        "vectorizer = CountVectorizer(ngram_range=(1, 2))\n",
        "\n",
        "X2=vectorizer.fit_transform(data['Rekomendasi_Parsed'])\n",
        "\n",
        "print(\"Each of the %d complaints is represented by %d features (BoW score of unigrams and bigrams)\" %(X2.shape))"
      ],
      "metadata": {
        "id": "tC53iQdCWXAw",
        "colab": {
          "base_uri": "https://localhost:8080/"
        },
        "outputId": "8a0dfaf3-32ff-4f07-deea-401482fb8ea0"
      },
      "execution_count": null,
      "outputs": [
        {
          "output_type": "stream",
          "name": "stdout",
          "text": [
            "Each of the 1563 complaints is represented by 9443 features (BoW score of unigrams and bigrams)\n"
          ]
        }
      ]
    },
    {
      "cell_type": "code",
      "source": [
        "#Getting the target variable(encoded)\n",
        "y2=data['Bidang_ID']"
      ],
      "metadata": {
        "id": "Th836oSyQkSn"
      },
      "execution_count": null,
      "outputs": []
    },
    {
      "cell_type": "code",
      "source": [
        "vectorizer.fit_transform(data['Rekomendasi_Parsed']).toarray()"
      ],
      "metadata": {
        "id": "44jLFCHt6vSN",
        "colab": {
          "base_uri": "https://localhost:8080/"
        },
        "outputId": "a4dc1351-50f2-473b-8c50-9230d6abff74"
      },
      "execution_count": null,
      "outputs": [
        {
          "output_type": "execute_result",
          "data": {
            "text/plain": [
              "array([[0, 0, 0, ..., 0, 0, 0],\n",
              "       [0, 0, 0, ..., 0, 0, 0],\n",
              "       [0, 0, 0, ..., 0, 0, 0],\n",
              "       ...,\n",
              "       [0, 0, 0, ..., 0, 0, 0],\n",
              "       [0, 0, 0, ..., 0, 0, 0],\n",
              "       [0, 0, 0, ..., 0, 0, 0]])"
            ]
          },
          "metadata": {},
          "execution_count": 39
        }
      ]
    },
    {
      "cell_type": "code",
      "source": [
        "# Create a new column 'category_id' with encoded categories\n",
        "category_id_df = data[['Bidang', 'Bidang_ID']].drop_duplicates()\n",
        "\n",
        "# Dictionaries for future use\n",
        "bidang_to_id = dict(category_id_df.values)\n",
        "id_to_category = dict(category_id_df[['Bidang_ID', 'Bidang']].values)"
      ],
      "metadata": {
        "id": "Pnlat6ivWXAw"
      },
      "execution_count": null,
      "outputs": []
    },
    {
      "cell_type": "markdown",
      "source": [
        "N-Gram\n",
        "\n",
        "\n",
        "---\n",
        "\n",
        "N-Gram adalah urutan dari N kata atau huruf yang saling berdekatan pada suatu teks tertentu. Pada NLP, N-Gram memegang peranan penting untuk bisa mendapatkan fitur teks yang melimpah dan efektif. Melalui N-Gram, akan diketahui kata apa saja yang paling banyak muncul pada setiap bidang."
      ],
      "metadata": {
        "id": "nZ1ko9bv4Xco"
      }
    },
    {
      "cell_type": "code",
      "source": [
        "# Finding the three most correlated terms with each of the Bidang categories\n",
        "N = 3\n",
        "for Bidang, Bidang_ID in sorted(bidang_to_id.items()):\n",
        "  features_chi2 = chi2(X2, y2 == Bidang_ID)\n",
        "  indices = np.argsort(features_chi2[0])\n",
        "  feature_names = np.array(vectorizer.get_feature_names_out())[indices]\n",
        "  unigrams = [v for v in feature_names if len(v.split(' ')) == 1]\n",
        "  bigrams = [v for v in feature_names if len(v.split(' ')) == 2]\n",
        "  print(\"\\n==> %s:\" %(Bidang))\n",
        "  print(\"  * Most Correlated Unigrams are: %s\" %(', '.join(unigrams[-N:])))\n",
        "  print(\"  * Most Correlated Bigrams are: %s\" %(', '.join(bigrams[-N:])))"
      ],
      "metadata": {
        "id": "x_kifR2CWXAx",
        "colab": {
          "base_uri": "https://localhost:8080/"
        },
        "outputId": "b8138875-0e0c-46de-9f9c-6ab9863f797f"
      },
      "execution_count": null,
      "outputs": [
        {
          "output_type": "stream",
          "name": "stdout",
          "text": [
            "\n",
            "==> Non:\n",
            "  * Most Correlated Unigrams are: unduh, video, materi\n",
            "  * Most Correlated Bigrams are: bahan ajar, latih laksana, video unduh\n",
            "\n",
            "==> PMPS:\n",
            "  * Most Correlated Unigrams are: tes, kuiz, kuis\n",
            "  * Most Correlated Bigrams are: kuiz materi, materi kuis, kuis materi\n",
            "\n",
            "==> Penyelenggaraan:\n",
            "  * Most Correlated Unigrams are: wa, kelas, panitia\n",
            "  * Most Correlated Bigrams are: sesuai jadwal, alat makan, grup wa\n",
            "\n",
            "==> Renbang:\n",
            "  * Most Correlated Unigrams are: kait, contoh, materi\n",
            "  * Most Correlated Bigrams are: salah ketik, materi kait, bahan ajar\n",
            "\n",
            "==> TU:\n",
            "  * Most Correlated Unigrams are: laundry, makan, kamar\n",
            "  * Most Correlated Bigrams are: kamar asrama, ruang makan, kamar mandi\n"
          ]
        }
      ]
    },
    {
      "cell_type": "markdown",
      "source": [
        "###Splitting Dataset"
      ],
      "metadata": {
        "id": "e4BqtoZzINKt"
      }
    },
    {
      "cell_type": "code",
      "source": [
        "X2_train, X2_test, y2_train, y2_test = train_test_split(X2, y2, test_size=0.2,random_state=0)"
      ],
      "metadata": {
        "id": "F2G6ni15INKu"
      },
      "execution_count": null,
      "outputs": []
    },
    {
      "cell_type": "markdown",
      "source": [
        "###SMOTE"
      ],
      "metadata": {
        "id": "W_NerOkVINKu"
      }
    },
    {
      "cell_type": "code",
      "source": [
        "fig = px.histogram(y2_train)\n",
        "fig.update_xaxes(categoryorder='total descending')\n",
        "fig.show()"
      ],
      "metadata": {
        "id": "Y5wGhGEPINKv",
        "colab": {
          "base_uri": "https://localhost:8080/",
          "height": 542
        },
        "outputId": "0f10af72-afc7-433c-f4fa-9631995395f1"
      },
      "execution_count": null,
      "outputs": [
        {
          "output_type": "display_data",
          "data": {
            "text/html": [
              "<html>\n",
              "<head><meta charset=\"utf-8\" /></head>\n",
              "<body>\n",
              "    <div>            <script src=\"https://cdnjs.cloudflare.com/ajax/libs/mathjax/2.7.5/MathJax.js?config=TeX-AMS-MML_SVG\"></script><script type=\"text/javascript\">if (window.MathJax && window.MathJax.Hub && window.MathJax.Hub.Config) {window.MathJax.Hub.Config({SVG: {font: \"STIX-Web\"}});}</script>                <script type=\"text/javascript\">window.PlotlyConfig = {MathJaxConfig: 'local'};</script>\n",
              "        <script src=\"https://cdn.plot.ly/plotly-2.18.2.min.js\"></script>                <div id=\"459b8b53-0556-41c7-b60a-15d1f9d15d1f\" class=\"plotly-graph-div\" style=\"height:525px; width:100%;\"></div>            <script type=\"text/javascript\">                                    window.PLOTLYENV=window.PLOTLYENV || {};                                    if (document.getElementById(\"459b8b53-0556-41c7-b60a-15d1f9d15d1f\")) {                    Plotly.newPlot(                        \"459b8b53-0556-41c7-b60a-15d1f9d15d1f\",                        [{\"alignmentgroup\":\"True\",\"bingroup\":\"x\",\"hovertemplate\":\"variable=Bidang_ID<br>value=%{x}<br>count=%{y}<extra></extra>\",\"legendgroup\":\"Bidang_ID\",\"marker\":{\"color\":\"#636efa\",\"pattern\":{\"shape\":\"\"}},\"name\":\"Bidang_ID\",\"offsetgroup\":\"Bidang_ID\",\"orientation\":\"v\",\"showlegend\":true,\"x\":[1,0,0,3,3,3,3,3,0,2,3,0,4,3,0,0,2,2,0,1,0,0,0,2,3,1,0,4,1,3,3,3,3,0,0,3,0,0,3,3,0,3,2,3,2,3,3,3,0,3,3,0,0,3,3,3,3,3,1,3,0,3,3,3,3,0,3,0,3,3,3,3,3,0,0,0,3,3,0,3,0,3,0,3,1,0,0,0,3,0,0,3,0,3,3,3,0,0,3,0,0,0,3,3,0,0,0,3,1,3,3,1,3,3,3,0,0,3,0,1,0,3,0,3,3,3,0,2,3,2,3,3,0,3,3,1,2,1,0,3,1,3,1,0,0,0,0,4,0,3,3,3,0,2,3,3,0,0,3,0,3,3,3,4,3,3,3,3,2,2,4,3,3,0,3,0,3,1,3,3,3,0,0,3,2,4,0,0,3,2,0,0,0,1,3,4,3,3,0,3,1,3,0,0,0,3,2,3,0,0,4,0,0,1,0,3,1,3,0,3,3,0,3,1,2,3,0,1,3,0,0,0,0,3,0,3,4,3,3,2,3,0,3,0,3,1,0,3,0,1,3,3,2,3,0,4,3,3,3,1,3,3,3,3,2,0,3,3,3,0,0,0,0,0,0,0,4,0,3,3,0,1,3,3,1,0,0,0,3,2,3,0,3,0,0,3,2,1,3,4,3,1,3,0,3,3,3,3,1,0,2,0,2,0,0,3,0,0,0,0,0,4,0,3,3,3,0,0,0,3,1,0,3,0,3,3,3,3,0,4,0,0,1,0,0,0,3,0,3,2,3,0,3,3,0,3,3,3,0,0,0,3,0,3,3,0,3,3,3,0,1,3,0,3,0,0,3,3,3,3,3,0,0,0,1,0,1,3,3,3,0,4,3,3,0,3,0,3,2,0,0,0,1,3,0,0,0,3,3,0,0,3,3,1,3,4,3,3,3,3,0,3,3,3,4,4,0,4,3,0,0,2,3,3,3,3,3,1,0,3,0,0,3,0,3,3,3,3,0,3,0,3,0,3,3,0,0,3,3,0,3,3,0,3,4,0,1,3,3,3,3,0,3,3,0,3,3,2,0,2,3,0,0,3,1,0,3,0,3,3,0,0,3,4,1,3,2,3,1,0,3,0,3,0,3,0,0,4,0,0,3,0,0,3,3,0,2,3,4,0,0,3,3,0,0,0,0,0,2,0,3,1,3,3,0,3,0,4,0,3,3,2,3,2,0,0,4,3,0,0,0,3,1,0,0,0,3,3,3,0,0,3,0,0,0,3,3,3,3,0,3,0,4,3,0,3,3,3,3,0,0,0,0,4,0,3,2,3,3,3,0,3,3,3,3,0,3,3,3,1,0,3,3,0,3,3,0,2,0,3,3,0,0,0,3,3,0,2,3,3,0,3,3,2,3,0,0,3,0,2,0,1,3,0,3,0,0,0,3,0,0,3,0,1,3,3,0,3,0,3,1,0,0,3,3,0,2,0,3,0,3,0,3,0,3,3,1,2,0,2,0,0,3,0,1,0,3,3,3,3,0,0,3,4,2,2,3,3,0,3,3,3,3,3,0,0,1,3,3,3,3,0,3,0,3,3,3,3,3,3,0,0,3,4,3,0,3,1,0,0,1,0,0,0,3,1,3,0,0,3,0,3,0,3,2,3,3,0,0,3,0,3,0,3,3,3,3,1,3,0,1,2,3,3,3,3,3,0,4,3,0,0,0,3,3,3,1,0,0,3,1,3,3,3,3,3,3,3,3,3,0,3,0,2,1,3,0,3,3,3,3,3,3,2,0,0,3,3,2,0,0,0,3,3,0,4,3,1,0,1,4,0,3,0,0,0,3,3,3,0,3,0,3,3,3,3,0,3,3,4,0,2,3,0,3,4,1,3,0,1,0,3,3,1,3,0,3,3,1,3,3,3,3,0,2,1,3,3,0,3,3,3,3,3,2,3,3,3,3,3,3,0,2,0,0,0,3,3,3,3,3,0,3,0,0,0,0,3,3,3,3,0,2,0,2,2,3,0,3,3,3,0,0,0,3,3,0,3,0,0,0,0,3,3,3,0,1,0,2,0,1,3,0,0,0,0,3,0,3,0,3,0,3,3,0,3,3,0,3,0,3,3,0,3,3,0,0,0,3,1,0,0,0,0,0,3,3,0,3,3,0,3,0,3,3,3,0,0,3,0,3,3,0,0,0,0,0,3,2,3,1,3,0,3,0,3,0,1,3,0,3,0,3,3,0,3,3,3,3,0,0,0,3,3,0,0,1,3,3,0,0,0,0,3,0,3,2,3,3,0,3,3,3,2,1,2,3,1,0,1,0,3,0,0,0,0,3,3,1,3,3,0,0,3,0,3,2,3,0,3,1,3,3,3,3,0,3,0,0,0,3,0,0,3,2,0,1,3,3,3,3,2,0,0,3,0,3,0,0,3,3,0,0,0,3,0,0,0,0,0,3,0,3,2,0,3,3,2,0,0,3,3,0,1,3,0,0,0,0,3,0,3,3,3,0,3,3,0,0,0,0,3,0,2,0,3,3,0,0,3,0,0,3,3,3,2,3,0,2,3,0,3,0,3,3,2,0,0,0,0,0,1,3,3,3,4,3,0,3,0,3,3,0,3,0,0,3,3,3,3,0,3,4,4,0,3,0,3,3,3,3,0,0,3,3,3,0,0,4,3,3,3,3,3,0,3,3,3,3,3,0,0,0,0,2,3,4,4,0,1,3,0,3,2,0,3,3,0,0,3,3,0,3,0,3,0,0,3,3,3,4,3,3,3,0,0,2,3,0,3,0,1,3,0,0,3,3,3,2,2],\"xaxis\":\"x\",\"yaxis\":\"y\",\"type\":\"histogram\"}],                        {\"template\":{\"data\":{\"histogram2dcontour\":[{\"type\":\"histogram2dcontour\",\"colorbar\":{\"outlinewidth\":0,\"ticks\":\"\"},\"colorscale\":[[0.0,\"#0d0887\"],[0.1111111111111111,\"#46039f\"],[0.2222222222222222,\"#7201a8\"],[0.3333333333333333,\"#9c179e\"],[0.4444444444444444,\"#bd3786\"],[0.5555555555555556,\"#d8576b\"],[0.6666666666666666,\"#ed7953\"],[0.7777777777777778,\"#fb9f3a\"],[0.8888888888888888,\"#fdca26\"],[1.0,\"#f0f921\"]]}],\"choropleth\":[{\"type\":\"choropleth\",\"colorbar\":{\"outlinewidth\":0,\"ticks\":\"\"}}],\"histogram2d\":[{\"type\":\"histogram2d\",\"colorbar\":{\"outlinewidth\":0,\"ticks\":\"\"},\"colorscale\":[[0.0,\"#0d0887\"],[0.1111111111111111,\"#46039f\"],[0.2222222222222222,\"#7201a8\"],[0.3333333333333333,\"#9c179e\"],[0.4444444444444444,\"#bd3786\"],[0.5555555555555556,\"#d8576b\"],[0.6666666666666666,\"#ed7953\"],[0.7777777777777778,\"#fb9f3a\"],[0.8888888888888888,\"#fdca26\"],[1.0,\"#f0f921\"]]}],\"heatmap\":[{\"type\":\"heatmap\",\"colorbar\":{\"outlinewidth\":0,\"ticks\":\"\"},\"colorscale\":[[0.0,\"#0d0887\"],[0.1111111111111111,\"#46039f\"],[0.2222222222222222,\"#7201a8\"],[0.3333333333333333,\"#9c179e\"],[0.4444444444444444,\"#bd3786\"],[0.5555555555555556,\"#d8576b\"],[0.6666666666666666,\"#ed7953\"],[0.7777777777777778,\"#fb9f3a\"],[0.8888888888888888,\"#fdca26\"],[1.0,\"#f0f921\"]]}],\"heatmapgl\":[{\"type\":\"heatmapgl\",\"colorbar\":{\"outlinewidth\":0,\"ticks\":\"\"},\"colorscale\":[[0.0,\"#0d0887\"],[0.1111111111111111,\"#46039f\"],[0.2222222222222222,\"#7201a8\"],[0.3333333333333333,\"#9c179e\"],[0.4444444444444444,\"#bd3786\"],[0.5555555555555556,\"#d8576b\"],[0.6666666666666666,\"#ed7953\"],[0.7777777777777778,\"#fb9f3a\"],[0.8888888888888888,\"#fdca26\"],[1.0,\"#f0f921\"]]}],\"contourcarpet\":[{\"type\":\"contourcarpet\",\"colorbar\":{\"outlinewidth\":0,\"ticks\":\"\"}}],\"contour\":[{\"type\":\"contour\",\"colorbar\":{\"outlinewidth\":0,\"ticks\":\"\"},\"colorscale\":[[0.0,\"#0d0887\"],[0.1111111111111111,\"#46039f\"],[0.2222222222222222,\"#7201a8\"],[0.3333333333333333,\"#9c179e\"],[0.4444444444444444,\"#bd3786\"],[0.5555555555555556,\"#d8576b\"],[0.6666666666666666,\"#ed7953\"],[0.7777777777777778,\"#fb9f3a\"],[0.8888888888888888,\"#fdca26\"],[1.0,\"#f0f921\"]]}],\"surface\":[{\"type\":\"surface\",\"colorbar\":{\"outlinewidth\":0,\"ticks\":\"\"},\"colorscale\":[[0.0,\"#0d0887\"],[0.1111111111111111,\"#46039f\"],[0.2222222222222222,\"#7201a8\"],[0.3333333333333333,\"#9c179e\"],[0.4444444444444444,\"#bd3786\"],[0.5555555555555556,\"#d8576b\"],[0.6666666666666666,\"#ed7953\"],[0.7777777777777778,\"#fb9f3a\"],[0.8888888888888888,\"#fdca26\"],[1.0,\"#f0f921\"]]}],\"mesh3d\":[{\"type\":\"mesh3d\",\"colorbar\":{\"outlinewidth\":0,\"ticks\":\"\"}}],\"scatter\":[{\"fillpattern\":{\"fillmode\":\"overlay\",\"size\":10,\"solidity\":0.2},\"type\":\"scatter\"}],\"parcoords\":[{\"type\":\"parcoords\",\"line\":{\"colorbar\":{\"outlinewidth\":0,\"ticks\":\"\"}}}],\"scatterpolargl\":[{\"type\":\"scatterpolargl\",\"marker\":{\"colorbar\":{\"outlinewidth\":0,\"ticks\":\"\"}}}],\"bar\":[{\"error_x\":{\"color\":\"#2a3f5f\"},\"error_y\":{\"color\":\"#2a3f5f\"},\"marker\":{\"line\":{\"color\":\"#E5ECF6\",\"width\":0.5},\"pattern\":{\"fillmode\":\"overlay\",\"size\":10,\"solidity\":0.2}},\"type\":\"bar\"}],\"scattergeo\":[{\"type\":\"scattergeo\",\"marker\":{\"colorbar\":{\"outlinewidth\":0,\"ticks\":\"\"}}}],\"scatterpolar\":[{\"type\":\"scatterpolar\",\"marker\":{\"colorbar\":{\"outlinewidth\":0,\"ticks\":\"\"}}}],\"histogram\":[{\"marker\":{\"pattern\":{\"fillmode\":\"overlay\",\"size\":10,\"solidity\":0.2}},\"type\":\"histogram\"}],\"scattergl\":[{\"type\":\"scattergl\",\"marker\":{\"colorbar\":{\"outlinewidth\":0,\"ticks\":\"\"}}}],\"scatter3d\":[{\"type\":\"scatter3d\",\"line\":{\"colorbar\":{\"outlinewidth\":0,\"ticks\":\"\"}},\"marker\":{\"colorbar\":{\"outlinewidth\":0,\"ticks\":\"\"}}}],\"scattermapbox\":[{\"type\":\"scattermapbox\",\"marker\":{\"colorbar\":{\"outlinewidth\":0,\"ticks\":\"\"}}}],\"scatterternary\":[{\"type\":\"scatterternary\",\"marker\":{\"colorbar\":{\"outlinewidth\":0,\"ticks\":\"\"}}}],\"scattercarpet\":[{\"type\":\"scattercarpet\",\"marker\":{\"colorbar\":{\"outlinewidth\":0,\"ticks\":\"\"}}}],\"carpet\":[{\"aaxis\":{\"endlinecolor\":\"#2a3f5f\",\"gridcolor\":\"white\",\"linecolor\":\"white\",\"minorgridcolor\":\"white\",\"startlinecolor\":\"#2a3f5f\"},\"baxis\":{\"endlinecolor\":\"#2a3f5f\",\"gridcolor\":\"white\",\"linecolor\":\"white\",\"minorgridcolor\":\"white\",\"startlinecolor\":\"#2a3f5f\"},\"type\":\"carpet\"}],\"table\":[{\"cells\":{\"fill\":{\"color\":\"#EBF0F8\"},\"line\":{\"color\":\"white\"}},\"header\":{\"fill\":{\"color\":\"#C8D4E3\"},\"line\":{\"color\":\"white\"}},\"type\":\"table\"}],\"barpolar\":[{\"marker\":{\"line\":{\"color\":\"#E5ECF6\",\"width\":0.5},\"pattern\":{\"fillmode\":\"overlay\",\"size\":10,\"solidity\":0.2}},\"type\":\"barpolar\"}],\"pie\":[{\"automargin\":true,\"type\":\"pie\"}]},\"layout\":{\"autotypenumbers\":\"strict\",\"colorway\":[\"#636efa\",\"#EF553B\",\"#00cc96\",\"#ab63fa\",\"#FFA15A\",\"#19d3f3\",\"#FF6692\",\"#B6E880\",\"#FF97FF\",\"#FECB52\"],\"font\":{\"color\":\"#2a3f5f\"},\"hovermode\":\"closest\",\"hoverlabel\":{\"align\":\"left\"},\"paper_bgcolor\":\"white\",\"plot_bgcolor\":\"#E5ECF6\",\"polar\":{\"bgcolor\":\"#E5ECF6\",\"angularaxis\":{\"gridcolor\":\"white\",\"linecolor\":\"white\",\"ticks\":\"\"},\"radialaxis\":{\"gridcolor\":\"white\",\"linecolor\":\"white\",\"ticks\":\"\"}},\"ternary\":{\"bgcolor\":\"#E5ECF6\",\"aaxis\":{\"gridcolor\":\"white\",\"linecolor\":\"white\",\"ticks\":\"\"},\"baxis\":{\"gridcolor\":\"white\",\"linecolor\":\"white\",\"ticks\":\"\"},\"caxis\":{\"gridcolor\":\"white\",\"linecolor\":\"white\",\"ticks\":\"\"}},\"coloraxis\":{\"colorbar\":{\"outlinewidth\":0,\"ticks\":\"\"}},\"colorscale\":{\"sequential\":[[0.0,\"#0d0887\"],[0.1111111111111111,\"#46039f\"],[0.2222222222222222,\"#7201a8\"],[0.3333333333333333,\"#9c179e\"],[0.4444444444444444,\"#bd3786\"],[0.5555555555555556,\"#d8576b\"],[0.6666666666666666,\"#ed7953\"],[0.7777777777777778,\"#fb9f3a\"],[0.8888888888888888,\"#fdca26\"],[1.0,\"#f0f921\"]],\"sequentialminus\":[[0.0,\"#0d0887\"],[0.1111111111111111,\"#46039f\"],[0.2222222222222222,\"#7201a8\"],[0.3333333333333333,\"#9c179e\"],[0.4444444444444444,\"#bd3786\"],[0.5555555555555556,\"#d8576b\"],[0.6666666666666666,\"#ed7953\"],[0.7777777777777778,\"#fb9f3a\"],[0.8888888888888888,\"#fdca26\"],[1.0,\"#f0f921\"]],\"diverging\":[[0,\"#8e0152\"],[0.1,\"#c51b7d\"],[0.2,\"#de77ae\"],[0.3,\"#f1b6da\"],[0.4,\"#fde0ef\"],[0.5,\"#f7f7f7\"],[0.6,\"#e6f5d0\"],[0.7,\"#b8e186\"],[0.8,\"#7fbc41\"],[0.9,\"#4d9221\"],[1,\"#276419\"]]},\"xaxis\":{\"gridcolor\":\"white\",\"linecolor\":\"white\",\"ticks\":\"\",\"title\":{\"standoff\":15},\"zerolinecolor\":\"white\",\"automargin\":true,\"zerolinewidth\":2},\"yaxis\":{\"gridcolor\":\"white\",\"linecolor\":\"white\",\"ticks\":\"\",\"title\":{\"standoff\":15},\"zerolinecolor\":\"white\",\"automargin\":true,\"zerolinewidth\":2},\"scene\":{\"xaxis\":{\"backgroundcolor\":\"#E5ECF6\",\"gridcolor\":\"white\",\"linecolor\":\"white\",\"showbackground\":true,\"ticks\":\"\",\"zerolinecolor\":\"white\",\"gridwidth\":2},\"yaxis\":{\"backgroundcolor\":\"#E5ECF6\",\"gridcolor\":\"white\",\"linecolor\":\"white\",\"showbackground\":true,\"ticks\":\"\",\"zerolinecolor\":\"white\",\"gridwidth\":2},\"zaxis\":{\"backgroundcolor\":\"#E5ECF6\",\"gridcolor\":\"white\",\"linecolor\":\"white\",\"showbackground\":true,\"ticks\":\"\",\"zerolinecolor\":\"white\",\"gridwidth\":2}},\"shapedefaults\":{\"line\":{\"color\":\"#2a3f5f\"}},\"annotationdefaults\":{\"arrowcolor\":\"#2a3f5f\",\"arrowhead\":0,\"arrowwidth\":1},\"geo\":{\"bgcolor\":\"white\",\"landcolor\":\"#E5ECF6\",\"subunitcolor\":\"white\",\"showland\":true,\"showlakes\":true,\"lakecolor\":\"white\"},\"title\":{\"x\":0.05},\"mapbox\":{\"style\":\"light\"}}},\"xaxis\":{\"anchor\":\"y\",\"domain\":[0.0,1.0],\"title\":{\"text\":\"value\"},\"categoryorder\":\"total descending\"},\"yaxis\":{\"anchor\":\"x\",\"domain\":[0.0,1.0],\"title\":{\"text\":\"count\"}},\"legend\":{\"title\":{\"text\":\"variable\"},\"tracegroupgap\":0},\"margin\":{\"t\":60},\"barmode\":\"relative\"},                        {\"responsive\": true}                    ).then(function(){\n",
              "                            \n",
              "var gd = document.getElementById('459b8b53-0556-41c7-b60a-15d1f9d15d1f');\n",
              "var x = new MutationObserver(function (mutations, observer) {{\n",
              "        var display = window.getComputedStyle(gd).display;\n",
              "        if (!display || display === 'none') {{\n",
              "            console.log([gd, 'removed!']);\n",
              "            Plotly.purge(gd);\n",
              "            observer.disconnect();\n",
              "        }}\n",
              "}});\n",
              "\n",
              "// Listen for the removal of the full notebook cells\n",
              "var notebookContainer = gd.closest('#notebook-container');\n",
              "if (notebookContainer) {{\n",
              "    x.observe(notebookContainer, {childList: true});\n",
              "}}\n",
              "\n",
              "// Listen for the clearing of the current output cell\n",
              "var outputEl = gd.closest('.output');\n",
              "if (outputEl) {{\n",
              "    x.observe(outputEl, {childList: true});\n",
              "}}\n",
              "\n",
              "                        })                };                            </script>        </div>\n",
              "</body>\n",
              "</html>"
            ]
          },
          "metadata": {}
        }
      ]
    },
    {
      "cell_type": "code",
      "source": [
        "print(f'Original dataset shape : {Counter(y2_train)}')\n",
        "\n",
        "smote = SMOTE(random_state=42)\n",
        "X2_res, y2_res = smote.fit_resample(X2_train, y2_train)\n",
        "\n",
        "print(f'Resampled dataset shape {Counter(y2_res)}')"
      ],
      "metadata": {
        "id": "UtG1tGsLINKv",
        "colab": {
          "base_uri": "https://localhost:8080/"
        },
        "outputId": "10473352-319e-4373-8ed9-23fbc7b00150"
      },
      "execution_count": null,
      "outputs": [
        {
          "output_type": "stream",
          "name": "stdout",
          "text": [
            "Original dataset shape : Counter({3: 582, 0: 473, 1: 80, 2: 74, 4: 41})\n",
            "Resampled dataset shape Counter({1: 582, 0: 582, 3: 582, 2: 582, 4: 582})\n"
          ]
        }
      ]
    },
    {
      "cell_type": "markdown",
      "source": [
        "### SVM"
      ],
      "metadata": {
        "id": "NT_elGirdRhG"
      }
    },
    {
      "cell_type": "code",
      "source": [
        "model2 = SVC()"
      ],
      "metadata": {
        "id": "PMW-rsSt3MH-"
      },
      "execution_count": null,
      "outputs": []
    },
    {
      "cell_type": "code",
      "source": [
        "param = {'C':[0.01, 0.1, 1, 10, 1000],\n",
        "          'gamma':[0.0001,0.001,0.01,0.1,1,'scale','auto']}\n",
        "\n",
        "best_param2 = GridSearchCV(model2, param, refit=True, verbose=3)"
      ],
      "metadata": {
        "id": "8apDDXLq3MH_"
      },
      "execution_count": null,
      "outputs": []
    },
    {
      "cell_type": "code",
      "source": [
        "best_param2.fit(X2_res, y2_res)\n",
        "y2_pred = best_param2.predict(X2_test)"
      ],
      "metadata": {
        "id": "JUrS4u_z3MIA",
        "colab": {
          "base_uri": "https://localhost:8080/"
        },
        "outputId": "e621e053-ca52-479e-d6a2-0999e0722c27"
      },
      "execution_count": null,
      "outputs": [
        {
          "output_type": "stream",
          "name": "stdout",
          "text": [
            "Fitting 5 folds for each of 35 candidates, totalling 175 fits\n",
            "[CV 1/5] END ..............C=0.01, gamma=0.0001;, score=0.213 total time=   1.0s\n",
            "[CV 2/5] END ..............C=0.01, gamma=0.0001;, score=0.213 total time=   1.0s\n",
            "[CV 3/5] END ..............C=0.01, gamma=0.0001;, score=0.338 total time=   1.3s\n",
            "[CV 4/5] END ..............C=0.01, gamma=0.0001;, score=0.229 total time=   1.3s\n",
            "[CV 5/5] END ..............C=0.01, gamma=0.0001;, score=0.234 total time=   1.0s\n",
            "[CV 1/5] END ...............C=0.01, gamma=0.001;, score=0.211 total time=   1.0s\n",
            "[CV 2/5] END ...............C=0.01, gamma=0.001;, score=0.247 total time=   1.0s\n",
            "[CV 3/5] END ...............C=0.01, gamma=0.001;, score=0.333 total time=   1.0s\n",
            "[CV 4/5] END ...............C=0.01, gamma=0.001;, score=0.227 total time=   1.0s\n",
            "[CV 5/5] END ...............C=0.01, gamma=0.001;, score=0.234 total time=   1.0s\n",
            "[CV 1/5] END ................C=0.01, gamma=0.01;, score=0.206 total time=   1.0s\n",
            "[CV 2/5] END ................C=0.01, gamma=0.01;, score=0.253 total time=   1.0s\n",
            "[CV 3/5] END ................C=0.01, gamma=0.01;, score=0.294 total time=   1.0s\n",
            "[CV 4/5] END ................C=0.01, gamma=0.01;, score=0.247 total time=   1.2s\n",
            "[CV 5/5] END ................C=0.01, gamma=0.01;, score=0.253 total time=   1.3s\n",
            "[CV 1/5] END .................C=0.01, gamma=0.1;, score=0.259 total time=   1.0s\n",
            "[CV 2/5] END .................C=0.01, gamma=0.1;, score=0.347 total time=   1.0s\n",
            "[CV 3/5] END .................C=0.01, gamma=0.1;, score=0.400 total time=   1.0s\n",
            "[CV 4/5] END .................C=0.01, gamma=0.1;, score=0.383 total time=   1.0s\n",
            "[CV 5/5] END .................C=0.01, gamma=0.1;, score=0.277 total time=   1.0s\n",
            "[CV 1/5] END ...................C=0.01, gamma=1;, score=0.271 total time=   1.0s\n",
            "[CV 2/5] END ...................C=0.01, gamma=1;, score=0.302 total time=   1.0s\n",
            "[CV 3/5] END ...................C=0.01, gamma=1;, score=0.385 total time=   1.0s\n",
            "[CV 4/5] END ...................C=0.01, gamma=1;, score=0.357 total time=   1.0s\n",
            "[CV 5/5] END ...................C=0.01, gamma=1;, score=0.302 total time=   1.1s\n",
            "[CV 1/5] END ...............C=0.01, gamma=scale;, score=0.292 total time=   1.4s\n",
            "[CV 2/5] END ...............C=0.01, gamma=scale;, score=0.351 total time=   1.1s\n",
            "[CV 3/5] END ...............C=0.01, gamma=scale;, score=0.404 total time=   1.0s\n",
            "[CV 4/5] END ...............C=0.01, gamma=scale;, score=0.380 total time=   1.0s\n",
            "[CV 5/5] END ...............C=0.01, gamma=scale;, score=0.278 total time=   1.0s\n",
            "[CV 1/5] END ................C=0.01, gamma=auto;, score=0.213 total time=   1.0s\n",
            "[CV 2/5] END ................C=0.01, gamma=auto;, score=0.213 total time=   1.0s\n",
            "[CV 3/5] END ................C=0.01, gamma=auto;, score=0.338 total time=   1.0s\n",
            "[CV 4/5] END ................C=0.01, gamma=auto;, score=0.229 total time=   1.0s\n",
            "[CV 5/5] END ................C=0.01, gamma=auto;, score=0.234 total time=   1.0s\n",
            "[CV 1/5] END ...............C=0.1, gamma=0.0001;, score=0.213 total time=   1.0s\n",
            "[CV 2/5] END ...............C=0.1, gamma=0.0001;, score=0.213 total time=   1.4s\n",
            "[CV 3/5] END ...............C=0.1, gamma=0.0001;, score=0.338 total time=   1.1s\n",
            "[CV 4/5] END ...............C=0.1, gamma=0.0001;, score=0.229 total time=   1.0s\n",
            "[CV 5/5] END ...............C=0.1, gamma=0.0001;, score=0.234 total time=   1.0s\n",
            "[CV 1/5] END ................C=0.1, gamma=0.001;, score=0.211 total time=   1.0s\n",
            "[CV 2/5] END ................C=0.1, gamma=0.001;, score=0.247 total time=   1.0s\n",
            "[CV 3/5] END ................C=0.1, gamma=0.001;, score=0.333 total time=   1.0s\n",
            "[CV 4/5] END ................C=0.1, gamma=0.001;, score=0.227 total time=   1.0s\n",
            "[CV 5/5] END ................C=0.1, gamma=0.001;, score=0.234 total time=   1.5s\n",
            "[CV 1/5] END .................C=0.1, gamma=0.01;, score=0.261 total time=   1.8s\n",
            "[CV 2/5] END .................C=0.1, gamma=0.01;, score=0.330 total time=   1.4s\n",
            "[CV 3/5] END .................C=0.1, gamma=0.01;, score=0.356 total time=   1.1s\n",
            "[CV 4/5] END .................C=0.1, gamma=0.01;, score=0.292 total time=   1.0s\n",
            "[CV 5/5] END .................C=0.1, gamma=0.01;, score=0.297 total time=   1.0s\n",
            "[CV 1/5] END ..................C=0.1, gamma=0.1;, score=0.411 total time=   0.7s\n",
            "[CV 2/5] END ..................C=0.1, gamma=0.1;, score=0.577 total time=   0.8s\n",
            "[CV 3/5] END ..................C=0.1, gamma=0.1;, score=0.612 total time=   0.8s\n",
            "[CV 4/5] END ..................C=0.1, gamma=0.1;, score=0.569 total time=   0.8s\n",
            "[CV 5/5] END ..................C=0.1, gamma=0.1;, score=0.584 total time=   0.7s\n",
            "[CV 1/5] END ....................C=0.1, gamma=1;, score=0.335 total time=   0.8s\n",
            "[CV 2/5] END ....................C=0.1, gamma=1;, score=0.493 total time=   0.9s\n",
            "[CV 3/5] END ....................C=0.1, gamma=1;, score=0.474 total time=   0.9s\n",
            "[CV 4/5] END ....................C=0.1, gamma=1;, score=0.471 total time=   0.8s\n",
            "[CV 5/5] END ....................C=0.1, gamma=1;, score=0.436 total time=   1.1s\n",
            "[CV 1/5] END ................C=0.1, gamma=scale;, score=0.390 total time=   1.0s\n",
            "[CV 2/5] END ................C=0.1, gamma=scale;, score=0.562 total time=   0.8s\n",
            "[CV 3/5] END ................C=0.1, gamma=scale;, score=0.610 total time=   0.8s\n",
            "[CV 4/5] END ................C=0.1, gamma=scale;, score=0.574 total time=   0.7s\n",
            "[CV 5/5] END ................C=0.1, gamma=scale;, score=0.586 total time=   0.7s\n",
            "[CV 1/5] END .................C=0.1, gamma=auto;, score=0.213 total time=   1.0s\n",
            "[CV 2/5] END .................C=0.1, gamma=auto;, score=0.213 total time=   1.0s\n",
            "[CV 3/5] END .................C=0.1, gamma=auto;, score=0.338 total time=   1.0s\n",
            "[CV 4/5] END .................C=0.1, gamma=auto;, score=0.229 total time=   1.0s\n",
            "[CV 5/5] END .................C=0.1, gamma=auto;, score=0.234 total time=   1.0s\n",
            "[CV 1/5] END .................C=1, gamma=0.0001;, score=0.213 total time=   1.0s\n",
            "[CV 2/5] END .................C=1, gamma=0.0001;, score=0.213 total time=   1.0s\n",
            "[CV 3/5] END .................C=1, gamma=0.0001;, score=0.338 total time=   1.4s\n",
            "[CV 4/5] END .................C=1, gamma=0.0001;, score=0.229 total time=   1.1s\n",
            "[CV 5/5] END .................C=1, gamma=0.0001;, score=0.234 total time=   1.0s\n",
            "[CV 1/5] END ..................C=1, gamma=0.001;, score=0.278 total time=   1.0s\n",
            "[CV 2/5] END ..................C=1, gamma=0.001;, score=0.481 total time=   1.0s\n",
            "[CV 3/5] END ..................C=1, gamma=0.001;, score=0.296 total time=   1.0s\n",
            "[CV 4/5] END ..................C=1, gamma=0.001;, score=0.270 total time=   1.0s\n",
            "[CV 5/5] END ..................C=1, gamma=0.001;, score=0.282 total time=   1.0s\n",
            "[CV 1/5] END ...................C=1, gamma=0.01;, score=0.454 total time=   0.7s\n",
            "[CV 2/5] END ...................C=1, gamma=0.01;, score=0.620 total time=   0.7s\n",
            "[CV 3/5] END ...................C=1, gamma=0.01;, score=0.605 total time=   0.7s\n",
            "[CV 4/5] END ...................C=1, gamma=0.01;, score=0.553 total time=   0.7s\n",
            "[CV 5/5] END ...................C=1, gamma=0.01;, score=0.545 total time=   0.8s\n",
            "[CV 1/5] END ....................C=1, gamma=0.1;, score=0.502 total time=   0.7s\n",
            "[CV 2/5] END ....................C=1, gamma=0.1;, score=0.727 total time=   0.9s\n",
            "[CV 3/5] END ....................C=1, gamma=0.1;, score=0.699 total time=   0.6s\n",
            "[CV 4/5] END ....................C=1, gamma=0.1;, score=0.691 total time=   0.6s\n",
            "[CV 5/5] END ....................C=1, gamma=0.1;, score=0.639 total time=   0.6s\n",
            "[CV 1/5] END ......................C=1, gamma=1;, score=0.405 total time=   0.7s\n",
            "[CV 2/5] END ......................C=1, gamma=1;, score=0.660 total time=   0.8s\n",
            "[CV 3/5] END ......................C=1, gamma=1;, score=0.637 total time=   0.8s\n",
            "[CV 4/5] END ......................C=1, gamma=1;, score=0.625 total time=   0.7s\n",
            "[CV 5/5] END ......................C=1, gamma=1;, score=0.706 total time=   0.8s\n",
            "[CV 1/5] END ..................C=1, gamma=scale;, score=0.502 total time=   0.5s\n",
            "[CV 2/5] END ..................C=1, gamma=scale;, score=0.732 total time=   0.6s\n",
            "[CV 3/5] END ..................C=1, gamma=scale;, score=0.698 total time=   0.6s\n",
            "[CV 4/5] END ..................C=1, gamma=scale;, score=0.687 total time=   0.6s\n",
            "[CV 5/5] END ..................C=1, gamma=scale;, score=0.639 total time=   0.6s\n",
            "[CV 1/5] END ...................C=1, gamma=auto;, score=0.213 total time=   1.0s\n",
            "[CV 2/5] END ...................C=1, gamma=auto;, score=0.213 total time=   1.2s\n",
            "[CV 3/5] END ...................C=1, gamma=auto;, score=0.338 total time=   1.4s\n",
            "[CV 4/5] END ...................C=1, gamma=auto;, score=0.229 total time=   1.0s\n",
            "[CV 5/5] END ...................C=1, gamma=auto;, score=0.234 total time=   1.0s\n",
            "[CV 1/5] END ................C=10, gamma=0.0001;, score=0.277 total time=   1.0s\n",
            "[CV 2/5] END ................C=10, gamma=0.0001;, score=0.462 total time=   1.0s\n",
            "[CV 3/5] END ................C=10, gamma=0.0001;, score=0.306 total time=   1.0s\n",
            "[CV 4/5] END ................C=10, gamma=0.0001;, score=0.285 total time=   1.0s\n",
            "[CV 5/5] END ................C=10, gamma=0.0001;, score=0.287 total time=   1.0s\n",
            "[CV 1/5] END .................C=10, gamma=0.001;, score=0.509 total time=   0.7s\n",
            "[CV 2/5] END .................C=10, gamma=0.001;, score=0.605 total time=   0.8s\n",
            "[CV 3/5] END .................C=10, gamma=0.001;, score=0.595 total time=   0.7s\n",
            "[CV 4/5] END .................C=10, gamma=0.001;, score=0.552 total time=   0.8s\n",
            "[CV 5/5] END .................C=10, gamma=0.001;, score=0.560 total time=   1.0s\n",
            "[CV 1/5] END ..................C=10, gamma=0.01;, score=0.531 total time=   0.6s\n",
            "[CV 2/5] END ..................C=10, gamma=0.01;, score=0.706 total time=   0.5s\n",
            "[CV 3/5] END ..................C=10, gamma=0.01;, score=0.704 total time=   0.5s\n",
            "[CV 4/5] END ..................C=10, gamma=0.01;, score=0.672 total time=   0.5s\n",
            "[CV 5/5] END ..................C=10, gamma=0.01;, score=0.632 total time=   0.5s\n",
            "[CV 1/5] END ...................C=10, gamma=0.1;, score=0.507 total time=   0.4s\n",
            "[CV 2/5] END ...................C=10, gamma=0.1;, score=0.734 total time=   0.6s\n",
            "[CV 3/5] END ...................C=10, gamma=0.1;, score=0.710 total time=   0.6s\n",
            "[CV 4/5] END ...................C=10, gamma=0.1;, score=0.699 total time=   0.5s\n",
            "[CV 5/5] END ...................C=10, gamma=0.1;, score=0.670 total time=   0.6s\n",
            "[CV 1/5] END .....................C=10, gamma=1;, score=0.404 total time=   0.7s\n",
            "[CV 2/5] END .....................C=10, gamma=1;, score=0.675 total time=   0.8s\n",
            "[CV 3/5] END .....................C=10, gamma=1;, score=0.653 total time=   0.7s\n",
            "[CV 4/5] END .....................C=10, gamma=1;, score=0.644 total time=   0.8s\n",
            "[CV 5/5] END .....................C=10, gamma=1;, score=0.718 total time=   0.8s\n",
            "[CV 1/5] END .................C=10, gamma=scale;, score=0.500 total time=   0.4s\n",
            "[CV 2/5] END .................C=10, gamma=scale;, score=0.734 total time=   0.6s\n",
            "[CV 3/5] END .................C=10, gamma=scale;, score=0.708 total time=   0.6s\n",
            "[CV 4/5] END .................C=10, gamma=scale;, score=0.699 total time=   0.8s\n",
            "[CV 5/5] END .................C=10, gamma=scale;, score=0.672 total time=   0.8s\n",
            "[CV 1/5] END ..................C=10, gamma=auto;, score=0.290 total time=   1.1s\n",
            "[CV 2/5] END ..................C=10, gamma=auto;, score=0.455 total time=   1.0s\n",
            "[CV 3/5] END ..................C=10, gamma=auto;, score=0.309 total time=   1.0s\n",
            "[CV 4/5] END ..................C=10, gamma=auto;, score=0.292 total time=   1.0s\n",
            "[CV 5/5] END ..................C=10, gamma=auto;, score=0.294 total time=   1.0s\n",
            "[CV 1/5] END ..............C=1000, gamma=0.0001;, score=0.612 total time=   0.5s\n",
            "[CV 2/5] END ..............C=1000, gamma=0.0001;, score=0.696 total time=   0.6s\n",
            "[CV 3/5] END ..............C=1000, gamma=0.0001;, score=0.687 total time=   0.5s\n",
            "[CV 4/5] END ..............C=1000, gamma=0.0001;, score=0.660 total time=   0.5s\n",
            "[CV 5/5] END ..............C=1000, gamma=0.0001;, score=0.615 total time=   0.5s\n",
            "[CV 1/5] END ...............C=1000, gamma=0.001;, score=0.562 total time=   0.4s\n",
            "[CV 2/5] END ...............C=1000, gamma=0.001;, score=0.722 total time=   0.5s\n",
            "[CV 3/5] END ...............C=1000, gamma=0.001;, score=0.703 total time=   0.4s\n",
            "[CV 4/5] END ...............C=1000, gamma=0.001;, score=0.679 total time=   0.4s\n",
            "[CV 5/5] END ...............C=1000, gamma=0.001;, score=0.634 total time=   0.4s\n",
            "[CV 1/5] END ................C=1000, gamma=0.01;, score=0.522 total time=   0.4s\n",
            "[CV 2/5] END ................C=1000, gamma=0.01;, score=0.739 total time=   0.6s\n",
            "[CV 3/5] END ................C=1000, gamma=0.01;, score=0.704 total time=   0.6s\n",
            "[CV 4/5] END ................C=1000, gamma=0.01;, score=0.680 total time=   0.5s\n",
            "[CV 5/5] END ................C=1000, gamma=0.01;, score=0.648 total time=   0.5s\n",
            "[CV 1/5] END .................C=1000, gamma=0.1;, score=0.502 total time=   0.4s\n",
            "[CV 2/5] END .................C=1000, gamma=0.1;, score=0.732 total time=   0.5s\n",
            "[CV 3/5] END .................C=1000, gamma=0.1;, score=0.708 total time=   0.5s\n",
            "[CV 4/5] END .................C=1000, gamma=0.1;, score=0.696 total time=   0.5s\n",
            "[CV 5/5] END .................C=1000, gamma=0.1;, score=0.668 total time=   0.6s\n",
            "[CV 1/5] END ...................C=1000, gamma=1;, score=0.404 total time=   0.7s\n",
            "[CV 2/5] END ...................C=1000, gamma=1;, score=0.675 total time=   0.7s\n",
            "[CV 3/5] END ...................C=1000, gamma=1;, score=0.653 total time=   0.8s\n",
            "[CV 4/5] END ...................C=1000, gamma=1;, score=0.644 total time=   0.8s\n",
            "[CV 5/5] END ...................C=1000, gamma=1;, score=0.718 total time=   0.8s\n",
            "[CV 1/5] END ...............C=1000, gamma=scale;, score=0.498 total time=   0.4s\n",
            "[CV 2/5] END ...............C=1000, gamma=scale;, score=0.732 total time=   0.6s\n",
            "[CV 3/5] END ...............C=1000, gamma=scale;, score=0.703 total time=   0.6s\n",
            "[CV 4/5] END ...............C=1000, gamma=scale;, score=0.698 total time=   0.6s\n",
            "[CV 5/5] END ...............C=1000, gamma=scale;, score=0.670 total time=   0.6s\n",
            "[CV 1/5] END ................C=1000, gamma=auto;, score=0.612 total time=   0.5s\n",
            "[CV 2/5] END ................C=1000, gamma=auto;, score=0.694 total time=   0.7s\n",
            "[CV 3/5] END ................C=1000, gamma=auto;, score=0.687 total time=   0.8s\n",
            "[CV 4/5] END ................C=1000, gamma=auto;, score=0.662 total time=   0.7s\n",
            "[CV 5/5] END ................C=1000, gamma=auto;, score=0.619 total time=   0.5s\n"
          ]
        }
      ]
    },
    {
      "cell_type": "code",
      "source": [
        "best_param2.best_params_"
      ],
      "metadata": {
        "id": "NJLNDMSwmWW_",
        "colab": {
          "base_uri": "https://localhost:8080/"
        },
        "outputId": "5c156acf-dbdb-440f-b0cb-a56cd45eee23"
      },
      "execution_count": null,
      "outputs": [
        {
          "output_type": "execute_result",
          "data": {
            "text/plain": [
              "{'C': 10, 'gamma': 0.1}"
            ]
          },
          "metadata": {},
          "execution_count": 48
        }
      ]
    },
    {
      "cell_type": "code",
      "source": [
        "# Classification report\n",
        "print('\\t\\t\\t\\tCLASSIFICATIION METRICS\\n')\n",
        "print(metrics.classification_report(y2_test, y2_pred,\n",
        "                                    target_names= data['Bidang'].unique()))"
      ],
      "metadata": {
        "id": "jVsLpPgZWXAy",
        "colab": {
          "base_uri": "https://localhost:8080/"
        },
        "outputId": "858a4266-4b43-4645-8da8-7f897e94107b"
      },
      "execution_count": null,
      "outputs": [
        {
          "output_type": "stream",
          "name": "stdout",
          "text": [
            "\t\t\t\tCLASSIFICATIION METRICS\n",
            "\n",
            "                 precision    recall  f1-score   support\n",
            "\n",
            "            Non       0.62      0.50      0.55       131\n",
            "        Renbang       0.53      0.44      0.48        18\n",
            "Penyelenggaraan       0.32      0.25      0.28        24\n",
            "           PMPS       0.58      0.72      0.64       138\n",
            "             TU       0.00      0.00      0.00         2\n",
            "\n",
            "       accuracy                           0.57       313\n",
            "      macro avg       0.41      0.38      0.39       313\n",
            "   weighted avg       0.57      0.57      0.56       313\n",
            "\n"
          ]
        }
      ]
    },
    {
      "cell_type": "code",
      "source": [
        "accuracy = accuracy_score(y2_test, y2_pred)\n",
        "precision = precision_score(y2_test, y2_pred, average='micro')\n",
        "recall = recall_score(y2_test, y2_pred, average='micro')\n",
        "f1 = f1_score(y2_test, y2_pred, average='micro')\n",
        "hl = hamming_loss(y2_test, y2_pred)\n",
        "\n",
        "print(\"Micro-average quality numbers\")\n",
        "print(\"Accuracy: {:.4f}\".format(accuracy))\n",
        "print(\"Precision: {:.4f}\".format(precision))\n",
        "print(\"Recall: {:.4f}\".format(recall))\n",
        "print(\"F1-Score: {:.4f}\".format(f1))\n",
        "print(\"Hamming Loss: {:.4f}\".format(hl))"
      ],
      "metadata": {
        "id": "ajj6JfcjWXAz",
        "colab": {
          "base_uri": "https://localhost:8080/"
        },
        "outputId": "7ddc9a17-fe9c-4a92-e30d-0b361d1fe8ee"
      },
      "execution_count": null,
      "outputs": [
        {
          "output_type": "stream",
          "name": "stdout",
          "text": [
            "Micro-average quality numbers\n",
            "Accuracy: 0.5687\n",
            "Precision: 0.5687\n",
            "Recall: 0.5687\n",
            "F1-Score: 0.5687\n",
            "Hamming Loss: 0.4313\n"
          ]
        }
      ]
    },
    {
      "cell_type": "markdown",
      "source": [
        "##TF-IDF"
      ],
      "metadata": {
        "id": "w3kjtJsUEzEk"
      }
    },
    {
      "cell_type": "markdown",
      "source": [
        "TF-IDF biasa digunakan ketika kita ingin mengubah data teks menjadi vektor namun dengan memperhatikan apakah sebuah kata tersebut cukup informatif atau tidak. Mudahnya, TF-IDF membuat kata yang sering muncul memiliki nilai yang cenderung kecil, sedangkan untuk kata yang semakin jarang muncul akan memiliki nilai yang cenderung besar. Kata yang sering muncul disebut juga Stopwords biasanya dianggap kurang penting, salah satu contohnya adalah kata hubung (yang, di, akan, dengan, dll)."
      ],
      "metadata": {
        "id": "d2HjUh-wFD8a"
      }
    },
    {
      "cell_type": "code",
      "source": [
        "tfidf_vectorizer = TfidfVectorizer(ngram_range=(1, 2))\n",
        "# TF-IDF feature matrix\n",
        "X1= tfidf_vectorizer.fit_transform(data['Rekomendasi_Parsed'])"
      ],
      "metadata": {
        "id": "aL8WBVEvGRin"
      },
      "execution_count": null,
      "outputs": []
    },
    {
      "cell_type": "code",
      "source": [
        "print(\"Each of the %d complaints is represented by %d features (BoW score of unigrams and bigrams)\" %(X1.shape))"
      ],
      "metadata": {
        "colab": {
          "base_uri": "https://localhost:8080/"
        },
        "id": "jzVtC1_P6Tqu",
        "outputId": "ac773328-f985-40eb-cf8a-16e8f982e8dc"
      },
      "execution_count": null,
      "outputs": [
        {
          "output_type": "stream",
          "name": "stdout",
          "text": [
            "Each of the 1563 complaints is represented by 9443 features (BoW score of unigrams and bigrams)\n"
          ]
        }
      ]
    },
    {
      "cell_type": "code",
      "source": [
        "X1.shape"
      ],
      "metadata": {
        "colab": {
          "base_uri": "https://localhost:8080/"
        },
        "id": "6WTGOW5HGcWL",
        "outputId": "ede613cf-ae74-436e-9531-ea328dd8bdb6"
      },
      "execution_count": null,
      "outputs": [
        {
          "output_type": "execute_result",
          "data": {
            "text/plain": [
              "(1563, 9443)"
            ]
          },
          "metadata": {},
          "execution_count": 53
        }
      ]
    },
    {
      "cell_type": "code",
      "source": [
        "tfidf_vectorizer.fit_transform(data['Rekomendasi_Parsed']).toarray()"
      ],
      "metadata": {
        "colab": {
          "base_uri": "https://localhost:8080/"
        },
        "id": "oQ66sznP7A--",
        "outputId": "1bc7b711-8967-48cb-f0d2-d73244f10df3"
      },
      "execution_count": null,
      "outputs": [
        {
          "output_type": "execute_result",
          "data": {
            "text/plain": [
              "array([[0., 0., 0., ..., 0., 0., 0.],\n",
              "       [0., 0., 0., ..., 0., 0., 0.],\n",
              "       [0., 0., 0., ..., 0., 0., 0.],\n",
              "       ...,\n",
              "       [0., 0., 0., ..., 0., 0., 0.],\n",
              "       [0., 0., 0., ..., 0., 0., 0.],\n",
              "       [0., 0., 0., ..., 0., 0., 0.]])"
            ]
          },
          "metadata": {},
          "execution_count": 54
        }
      ]
    },
    {
      "cell_type": "code",
      "source": [
        "#Getting the target variable(encoded)\n",
        "y1=data['Bidang_ID']"
      ],
      "metadata": {
        "id": "gPY7-qJFnw9z"
      },
      "execution_count": null,
      "outputs": []
    },
    {
      "cell_type": "code",
      "source": [
        "# Create a new column 'category_id' with encoded categories\n",
        "category_id_df = data[['Bidang', 'Bidang_ID']].drop_duplicates()\n",
        "\n",
        "# Dictionaries for future use\n",
        "bidang_to_id = dict(category_id_df.values)\n",
        "id_to_category = dict(category_id_df[['Bidang_ID', 'Bidang']].values)"
      ],
      "metadata": {
        "id": "yeLgOWXVWXAt"
      },
      "execution_count": null,
      "outputs": []
    },
    {
      "cell_type": "markdown",
      "source": [
        "N-Gram\n",
        "\n",
        "\n",
        "---\n",
        "\n",
        "N-Gram adalah urutan dari N kata atau huruf yang saling berdekatan pada suatu teks tertentu. Pada NLP, N-Gram memegang peranan penting untuk bisa mendapatkan fitur teks yang melimpah dan efektif. Melalui N-Gram, akan diketahui kata apa saja yang paling banyak muncul pada setiap bidang."
      ],
      "metadata": {
        "id": "iDHZZFz84b4n"
      }
    },
    {
      "cell_type": "code",
      "source": [
        "# Finding the three most correlated terms with each of the Bidang categories\n",
        "N = 3\n",
        "for Bidang, Bidang_ID in sorted(bidang_to_id.items()):\n",
        "  features_chi2 = chi2(X1, y1 == Bidang_ID)\n",
        "  indices = np.argsort(features_chi2[0])\n",
        "  feature_names = np.array(tfidf_vectorizer.get_feature_names_out())[indices]\n",
        "  unigrams = [v for v in feature_names if len(v.split(' ')) == 1]\n",
        "  bigrams = [v for v in feature_names if len(v.split(' ')) == 2]\n",
        "  print(\"\\n==> %s:\" %(Bidang))\n",
        "  print(\"  * Most Correlated Unigrams are: %s\" %(', '.join(unigrams[-N:])))\n",
        "  print(\"  * Most Correlated Bigrams are: %s\" %(', '.join(bigrams[-N:])))"
      ],
      "metadata": {
        "id": "xo94_g7PWXAt",
        "colab": {
          "base_uri": "https://localhost:8080/"
        },
        "outputId": "67c0da06-b092-4d3c-8cdc-c01fd73edd66"
      },
      "execution_count": null,
      "outputs": [
        {
          "output_type": "stream",
          "name": "stdout",
          "text": [
            "\n",
            "==> Non:\n",
            "  * Most Correlated Unigrams are: video, luring, unduh\n",
            "  * Most Correlated Bigrams are: laksana luring, latih laksana, video unduh\n",
            "\n",
            "==> PMPS:\n",
            "  * Most Correlated Unigrams are: tes, kuiz, kuis\n",
            "  * Most Correlated Bigrams are: kuis bahan, kuis materi, kuiz materi\n",
            "\n",
            "==> Penyelenggaraan:\n",
            "  * Most Correlated Unigrams are: grup, wa, panitia\n",
            "  * Most Correlated Bigrams are: sesuai jadwal, alat makan, grup wa\n",
            "\n",
            "==> Renbang:\n",
            "  * Most Correlated Unigrams are: kuis, unduh, contoh\n",
            "  * Most Correlated Bigrams are: latih laksana, banyak contoh, video unduh\n",
            "\n",
            "==> TU:\n",
            "  * Most Correlated Unigrams are: makan, laundry, kamar\n",
            "  * Most Correlated Bigrams are: laundry pagi, kamar asrama, kamar mandi\n"
          ]
        }
      ]
    },
    {
      "cell_type": "markdown",
      "source": [
        "###Splitting Dataset"
      ],
      "metadata": {
        "id": "m942_jdqobpe"
      }
    },
    {
      "cell_type": "code",
      "source": [
        "X1_train, X1_test, y1_train, y1_test = train_test_split(X1, y1, test_size=0.2,random_state=0)"
      ],
      "metadata": {
        "id": "Z5bmOkiRWXAv"
      },
      "execution_count": null,
      "outputs": []
    },
    {
      "cell_type": "code",
      "source": [
        "print(X1_train.shape)\n",
        "print(X1_test.shape)\n",
        "print(y1_train.shape)\n",
        "print(y1_test.shape)"
      ],
      "metadata": {
        "id": "8JDDN7NUi_vW",
        "colab": {
          "base_uri": "https://localhost:8080/"
        },
        "outputId": "a386c891-9fd9-4dc8-b4fa-c530c0072b4d"
      },
      "execution_count": null,
      "outputs": [
        {
          "output_type": "stream",
          "name": "stdout",
          "text": [
            "(1250, 9443)\n",
            "(313, 9443)\n",
            "(1250,)\n",
            "(313,)\n"
          ]
        }
      ]
    },
    {
      "cell_type": "markdown",
      "source": [
        "###SMOTE"
      ],
      "metadata": {
        "id": "-Ew4xspojpRl"
      }
    },
    {
      "cell_type": "code",
      "source": [
        "fig = px.histogram(y1_train)\n",
        "fig.update_xaxes(categoryorder='total descending')\n",
        "fig.show()"
      ],
      "metadata": {
        "colab": {
          "base_uri": "https://localhost:8080/",
          "height": 542
        },
        "id": "X-xrz5J0ddmz",
        "outputId": "ccbe9953-4bef-4989-d811-ef2e1611965f"
      },
      "execution_count": null,
      "outputs": [
        {
          "output_type": "display_data",
          "data": {
            "text/html": [
              "<html>\n",
              "<head><meta charset=\"utf-8\" /></head>\n",
              "<body>\n",
              "    <div>            <script src=\"https://cdnjs.cloudflare.com/ajax/libs/mathjax/2.7.5/MathJax.js?config=TeX-AMS-MML_SVG\"></script><script type=\"text/javascript\">if (window.MathJax && window.MathJax.Hub && window.MathJax.Hub.Config) {window.MathJax.Hub.Config({SVG: {font: \"STIX-Web\"}});}</script>                <script type=\"text/javascript\">window.PlotlyConfig = {MathJaxConfig: 'local'};</script>\n",
              "        <script src=\"https://cdn.plot.ly/plotly-2.18.2.min.js\"></script>                <div id=\"7751929f-5b80-453d-93b5-6dc28eb1d59f\" class=\"plotly-graph-div\" style=\"height:525px; width:100%;\"></div>            <script type=\"text/javascript\">                                    window.PLOTLYENV=window.PLOTLYENV || {};                                    if (document.getElementById(\"7751929f-5b80-453d-93b5-6dc28eb1d59f\")) {                    Plotly.newPlot(                        \"7751929f-5b80-453d-93b5-6dc28eb1d59f\",                        [{\"alignmentgroup\":\"True\",\"bingroup\":\"x\",\"hovertemplate\":\"variable=Bidang_ID<br>value=%{x}<br>count=%{y}<extra></extra>\",\"legendgroup\":\"Bidang_ID\",\"marker\":{\"color\":\"#636efa\",\"pattern\":{\"shape\":\"\"}},\"name\":\"Bidang_ID\",\"offsetgroup\":\"Bidang_ID\",\"orientation\":\"v\",\"showlegend\":true,\"x\":[1,0,0,3,3,3,3,3,0,2,3,0,4,3,0,0,2,2,0,1,0,0,0,2,3,1,0,4,1,3,3,3,3,0,0,3,0,0,3,3,0,3,2,3,2,3,3,3,0,3,3,0,0,3,3,3,3,3,1,3,0,3,3,3,3,0,3,0,3,3,3,3,3,0,0,0,3,3,0,3,0,3,0,3,1,0,0,0,3,0,0,3,0,3,3,3,0,0,3,0,0,0,3,3,0,0,0,3,1,3,3,1,3,3,3,0,0,3,0,1,0,3,0,3,3,3,0,2,3,2,3,3,0,3,3,1,2,1,0,3,1,3,1,0,0,0,0,4,0,3,3,3,0,2,3,3,0,0,3,0,3,3,3,4,3,3,3,3,2,2,4,3,3,0,3,0,3,1,3,3,3,0,0,3,2,4,0,0,3,2,0,0,0,1,3,4,3,3,0,3,1,3,0,0,0,3,2,3,0,0,4,0,0,1,0,3,1,3,0,3,3,0,3,1,2,3,0,1,3,0,0,0,0,3,0,3,4,3,3,2,3,0,3,0,3,1,0,3,0,1,3,3,2,3,0,4,3,3,3,1,3,3,3,3,2,0,3,3,3,0,0,0,0,0,0,0,4,0,3,3,0,1,3,3,1,0,0,0,3,2,3,0,3,0,0,3,2,1,3,4,3,1,3,0,3,3,3,3,1,0,2,0,2,0,0,3,0,0,0,0,0,4,0,3,3,3,0,0,0,3,1,0,3,0,3,3,3,3,0,4,0,0,1,0,0,0,3,0,3,2,3,0,3,3,0,3,3,3,0,0,0,3,0,3,3,0,3,3,3,0,1,3,0,3,0,0,3,3,3,3,3,0,0,0,1,0,1,3,3,3,0,4,3,3,0,3,0,3,2,0,0,0,1,3,0,0,0,3,3,0,0,3,3,1,3,4,3,3,3,3,0,3,3,3,4,4,0,4,3,0,0,2,3,3,3,3,3,1,0,3,0,0,3,0,3,3,3,3,0,3,0,3,0,3,3,0,0,3,3,0,3,3,0,3,4,0,1,3,3,3,3,0,3,3,0,3,3,2,0,2,3,0,0,3,1,0,3,0,3,3,0,0,3,4,1,3,2,3,1,0,3,0,3,0,3,0,0,4,0,0,3,0,0,3,3,0,2,3,4,0,0,3,3,0,0,0,0,0,2,0,3,1,3,3,0,3,0,4,0,3,3,2,3,2,0,0,4,3,0,0,0,3,1,0,0,0,3,3,3,0,0,3,0,0,0,3,3,3,3,0,3,0,4,3,0,3,3,3,3,0,0,0,0,4,0,3,2,3,3,3,0,3,3,3,3,0,3,3,3,1,0,3,3,0,3,3,0,2,0,3,3,0,0,0,3,3,0,2,3,3,0,3,3,2,3,0,0,3,0,2,0,1,3,0,3,0,0,0,3,0,0,3,0,1,3,3,0,3,0,3,1,0,0,3,3,0,2,0,3,0,3,0,3,0,3,3,1,2,0,2,0,0,3,0,1,0,3,3,3,3,0,0,3,4,2,2,3,3,0,3,3,3,3,3,0,0,1,3,3,3,3,0,3,0,3,3,3,3,3,3,0,0,3,4,3,0,3,1,0,0,1,0,0,0,3,1,3,0,0,3,0,3,0,3,2,3,3,0,0,3,0,3,0,3,3,3,3,1,3,0,1,2,3,3,3,3,3,0,4,3,0,0,0,3,3,3,1,0,0,3,1,3,3,3,3,3,3,3,3,3,0,3,0,2,1,3,0,3,3,3,3,3,3,2,0,0,3,3,2,0,0,0,3,3,0,4,3,1,0,1,4,0,3,0,0,0,3,3,3,0,3,0,3,3,3,3,0,3,3,4,0,2,3,0,3,4,1,3,0,1,0,3,3,1,3,0,3,3,1,3,3,3,3,0,2,1,3,3,0,3,3,3,3,3,2,3,3,3,3,3,3,0,2,0,0,0,3,3,3,3,3,0,3,0,0,0,0,3,3,3,3,0,2,0,2,2,3,0,3,3,3,0,0,0,3,3,0,3,0,0,0,0,3,3,3,0,1,0,2,0,1,3,0,0,0,0,3,0,3,0,3,0,3,3,0,3,3,0,3,0,3,3,0,3,3,0,0,0,3,1,0,0,0,0,0,3,3,0,3,3,0,3,0,3,3,3,0,0,3,0,3,3,0,0,0,0,0,3,2,3,1,3,0,3,0,3,0,1,3,0,3,0,3,3,0,3,3,3,3,0,0,0,3,3,0,0,1,3,3,0,0,0,0,3,0,3,2,3,3,0,3,3,3,2,1,2,3,1,0,1,0,3,0,0,0,0,3,3,1,3,3,0,0,3,0,3,2,3,0,3,1,3,3,3,3,0,3,0,0,0,3,0,0,3,2,0,1,3,3,3,3,2,0,0,3,0,3,0,0,3,3,0,0,0,3,0,0,0,0,0,3,0,3,2,0,3,3,2,0,0,3,3,0,1,3,0,0,0,0,3,0,3,3,3,0,3,3,0,0,0,0,3,0,2,0,3,3,0,0,3,0,0,3,3,3,2,3,0,2,3,0,3,0,3,3,2,0,0,0,0,0,1,3,3,3,4,3,0,3,0,3,3,0,3,0,0,3,3,3,3,0,3,4,4,0,3,0,3,3,3,3,0,0,3,3,3,0,0,4,3,3,3,3,3,0,3,3,3,3,3,0,0,0,0,2,3,4,4,0,1,3,0,3,2,0,3,3,0,0,3,3,0,3,0,3,0,0,3,3,3,4,3,3,3,0,0,2,3,0,3,0,1,3,0,0,3,3,3,2,2],\"xaxis\":\"x\",\"yaxis\":\"y\",\"type\":\"histogram\"}],                        {\"template\":{\"data\":{\"histogram2dcontour\":[{\"type\":\"histogram2dcontour\",\"colorbar\":{\"outlinewidth\":0,\"ticks\":\"\"},\"colorscale\":[[0.0,\"#0d0887\"],[0.1111111111111111,\"#46039f\"],[0.2222222222222222,\"#7201a8\"],[0.3333333333333333,\"#9c179e\"],[0.4444444444444444,\"#bd3786\"],[0.5555555555555556,\"#d8576b\"],[0.6666666666666666,\"#ed7953\"],[0.7777777777777778,\"#fb9f3a\"],[0.8888888888888888,\"#fdca26\"],[1.0,\"#f0f921\"]]}],\"choropleth\":[{\"type\":\"choropleth\",\"colorbar\":{\"outlinewidth\":0,\"ticks\":\"\"}}],\"histogram2d\":[{\"type\":\"histogram2d\",\"colorbar\":{\"outlinewidth\":0,\"ticks\":\"\"},\"colorscale\":[[0.0,\"#0d0887\"],[0.1111111111111111,\"#46039f\"],[0.2222222222222222,\"#7201a8\"],[0.3333333333333333,\"#9c179e\"],[0.4444444444444444,\"#bd3786\"],[0.5555555555555556,\"#d8576b\"],[0.6666666666666666,\"#ed7953\"],[0.7777777777777778,\"#fb9f3a\"],[0.8888888888888888,\"#fdca26\"],[1.0,\"#f0f921\"]]}],\"heatmap\":[{\"type\":\"heatmap\",\"colorbar\":{\"outlinewidth\":0,\"ticks\":\"\"},\"colorscale\":[[0.0,\"#0d0887\"],[0.1111111111111111,\"#46039f\"],[0.2222222222222222,\"#7201a8\"],[0.3333333333333333,\"#9c179e\"],[0.4444444444444444,\"#bd3786\"],[0.5555555555555556,\"#d8576b\"],[0.6666666666666666,\"#ed7953\"],[0.7777777777777778,\"#fb9f3a\"],[0.8888888888888888,\"#fdca26\"],[1.0,\"#f0f921\"]]}],\"heatmapgl\":[{\"type\":\"heatmapgl\",\"colorbar\":{\"outlinewidth\":0,\"ticks\":\"\"},\"colorscale\":[[0.0,\"#0d0887\"],[0.1111111111111111,\"#46039f\"],[0.2222222222222222,\"#7201a8\"],[0.3333333333333333,\"#9c179e\"],[0.4444444444444444,\"#bd3786\"],[0.5555555555555556,\"#d8576b\"],[0.6666666666666666,\"#ed7953\"],[0.7777777777777778,\"#fb9f3a\"],[0.8888888888888888,\"#fdca26\"],[1.0,\"#f0f921\"]]}],\"contourcarpet\":[{\"type\":\"contourcarpet\",\"colorbar\":{\"outlinewidth\":0,\"ticks\":\"\"}}],\"contour\":[{\"type\":\"contour\",\"colorbar\":{\"outlinewidth\":0,\"ticks\":\"\"},\"colorscale\":[[0.0,\"#0d0887\"],[0.1111111111111111,\"#46039f\"],[0.2222222222222222,\"#7201a8\"],[0.3333333333333333,\"#9c179e\"],[0.4444444444444444,\"#bd3786\"],[0.5555555555555556,\"#d8576b\"],[0.6666666666666666,\"#ed7953\"],[0.7777777777777778,\"#fb9f3a\"],[0.8888888888888888,\"#fdca26\"],[1.0,\"#f0f921\"]]}],\"surface\":[{\"type\":\"surface\",\"colorbar\":{\"outlinewidth\":0,\"ticks\":\"\"},\"colorscale\":[[0.0,\"#0d0887\"],[0.1111111111111111,\"#46039f\"],[0.2222222222222222,\"#7201a8\"],[0.3333333333333333,\"#9c179e\"],[0.4444444444444444,\"#bd3786\"],[0.5555555555555556,\"#d8576b\"],[0.6666666666666666,\"#ed7953\"],[0.7777777777777778,\"#fb9f3a\"],[0.8888888888888888,\"#fdca26\"],[1.0,\"#f0f921\"]]}],\"mesh3d\":[{\"type\":\"mesh3d\",\"colorbar\":{\"outlinewidth\":0,\"ticks\":\"\"}}],\"scatter\":[{\"fillpattern\":{\"fillmode\":\"overlay\",\"size\":10,\"solidity\":0.2},\"type\":\"scatter\"}],\"parcoords\":[{\"type\":\"parcoords\",\"line\":{\"colorbar\":{\"outlinewidth\":0,\"ticks\":\"\"}}}],\"scatterpolargl\":[{\"type\":\"scatterpolargl\",\"marker\":{\"colorbar\":{\"outlinewidth\":0,\"ticks\":\"\"}}}],\"bar\":[{\"error_x\":{\"color\":\"#2a3f5f\"},\"error_y\":{\"color\":\"#2a3f5f\"},\"marker\":{\"line\":{\"color\":\"#E5ECF6\",\"width\":0.5},\"pattern\":{\"fillmode\":\"overlay\",\"size\":10,\"solidity\":0.2}},\"type\":\"bar\"}],\"scattergeo\":[{\"type\":\"scattergeo\",\"marker\":{\"colorbar\":{\"outlinewidth\":0,\"ticks\":\"\"}}}],\"scatterpolar\":[{\"type\":\"scatterpolar\",\"marker\":{\"colorbar\":{\"outlinewidth\":0,\"ticks\":\"\"}}}],\"histogram\":[{\"marker\":{\"pattern\":{\"fillmode\":\"overlay\",\"size\":10,\"solidity\":0.2}},\"type\":\"histogram\"}],\"scattergl\":[{\"type\":\"scattergl\",\"marker\":{\"colorbar\":{\"outlinewidth\":0,\"ticks\":\"\"}}}],\"scatter3d\":[{\"type\":\"scatter3d\",\"line\":{\"colorbar\":{\"outlinewidth\":0,\"ticks\":\"\"}},\"marker\":{\"colorbar\":{\"outlinewidth\":0,\"ticks\":\"\"}}}],\"scattermapbox\":[{\"type\":\"scattermapbox\",\"marker\":{\"colorbar\":{\"outlinewidth\":0,\"ticks\":\"\"}}}],\"scatterternary\":[{\"type\":\"scatterternary\",\"marker\":{\"colorbar\":{\"outlinewidth\":0,\"ticks\":\"\"}}}],\"scattercarpet\":[{\"type\":\"scattercarpet\",\"marker\":{\"colorbar\":{\"outlinewidth\":0,\"ticks\":\"\"}}}],\"carpet\":[{\"aaxis\":{\"endlinecolor\":\"#2a3f5f\",\"gridcolor\":\"white\",\"linecolor\":\"white\",\"minorgridcolor\":\"white\",\"startlinecolor\":\"#2a3f5f\"},\"baxis\":{\"endlinecolor\":\"#2a3f5f\",\"gridcolor\":\"white\",\"linecolor\":\"white\",\"minorgridcolor\":\"white\",\"startlinecolor\":\"#2a3f5f\"},\"type\":\"carpet\"}],\"table\":[{\"cells\":{\"fill\":{\"color\":\"#EBF0F8\"},\"line\":{\"color\":\"white\"}},\"header\":{\"fill\":{\"color\":\"#C8D4E3\"},\"line\":{\"color\":\"white\"}},\"type\":\"table\"}],\"barpolar\":[{\"marker\":{\"line\":{\"color\":\"#E5ECF6\",\"width\":0.5},\"pattern\":{\"fillmode\":\"overlay\",\"size\":10,\"solidity\":0.2}},\"type\":\"barpolar\"}],\"pie\":[{\"automargin\":true,\"type\":\"pie\"}]},\"layout\":{\"autotypenumbers\":\"strict\",\"colorway\":[\"#636efa\",\"#EF553B\",\"#00cc96\",\"#ab63fa\",\"#FFA15A\",\"#19d3f3\",\"#FF6692\",\"#B6E880\",\"#FF97FF\",\"#FECB52\"],\"font\":{\"color\":\"#2a3f5f\"},\"hovermode\":\"closest\",\"hoverlabel\":{\"align\":\"left\"},\"paper_bgcolor\":\"white\",\"plot_bgcolor\":\"#E5ECF6\",\"polar\":{\"bgcolor\":\"#E5ECF6\",\"angularaxis\":{\"gridcolor\":\"white\",\"linecolor\":\"white\",\"ticks\":\"\"},\"radialaxis\":{\"gridcolor\":\"white\",\"linecolor\":\"white\",\"ticks\":\"\"}},\"ternary\":{\"bgcolor\":\"#E5ECF6\",\"aaxis\":{\"gridcolor\":\"white\",\"linecolor\":\"white\",\"ticks\":\"\"},\"baxis\":{\"gridcolor\":\"white\",\"linecolor\":\"white\",\"ticks\":\"\"},\"caxis\":{\"gridcolor\":\"white\",\"linecolor\":\"white\",\"ticks\":\"\"}},\"coloraxis\":{\"colorbar\":{\"outlinewidth\":0,\"ticks\":\"\"}},\"colorscale\":{\"sequential\":[[0.0,\"#0d0887\"],[0.1111111111111111,\"#46039f\"],[0.2222222222222222,\"#7201a8\"],[0.3333333333333333,\"#9c179e\"],[0.4444444444444444,\"#bd3786\"],[0.5555555555555556,\"#d8576b\"],[0.6666666666666666,\"#ed7953\"],[0.7777777777777778,\"#fb9f3a\"],[0.8888888888888888,\"#fdca26\"],[1.0,\"#f0f921\"]],\"sequentialminus\":[[0.0,\"#0d0887\"],[0.1111111111111111,\"#46039f\"],[0.2222222222222222,\"#7201a8\"],[0.3333333333333333,\"#9c179e\"],[0.4444444444444444,\"#bd3786\"],[0.5555555555555556,\"#d8576b\"],[0.6666666666666666,\"#ed7953\"],[0.7777777777777778,\"#fb9f3a\"],[0.8888888888888888,\"#fdca26\"],[1.0,\"#f0f921\"]],\"diverging\":[[0,\"#8e0152\"],[0.1,\"#c51b7d\"],[0.2,\"#de77ae\"],[0.3,\"#f1b6da\"],[0.4,\"#fde0ef\"],[0.5,\"#f7f7f7\"],[0.6,\"#e6f5d0\"],[0.7,\"#b8e186\"],[0.8,\"#7fbc41\"],[0.9,\"#4d9221\"],[1,\"#276419\"]]},\"xaxis\":{\"gridcolor\":\"white\",\"linecolor\":\"white\",\"ticks\":\"\",\"title\":{\"standoff\":15},\"zerolinecolor\":\"white\",\"automargin\":true,\"zerolinewidth\":2},\"yaxis\":{\"gridcolor\":\"white\",\"linecolor\":\"white\",\"ticks\":\"\",\"title\":{\"standoff\":15},\"zerolinecolor\":\"white\",\"automargin\":true,\"zerolinewidth\":2},\"scene\":{\"xaxis\":{\"backgroundcolor\":\"#E5ECF6\",\"gridcolor\":\"white\",\"linecolor\":\"white\",\"showbackground\":true,\"ticks\":\"\",\"zerolinecolor\":\"white\",\"gridwidth\":2},\"yaxis\":{\"backgroundcolor\":\"#E5ECF6\",\"gridcolor\":\"white\",\"linecolor\":\"white\",\"showbackground\":true,\"ticks\":\"\",\"zerolinecolor\":\"white\",\"gridwidth\":2},\"zaxis\":{\"backgroundcolor\":\"#E5ECF6\",\"gridcolor\":\"white\",\"linecolor\":\"white\",\"showbackground\":true,\"ticks\":\"\",\"zerolinecolor\":\"white\",\"gridwidth\":2}},\"shapedefaults\":{\"line\":{\"color\":\"#2a3f5f\"}},\"annotationdefaults\":{\"arrowcolor\":\"#2a3f5f\",\"arrowhead\":0,\"arrowwidth\":1},\"geo\":{\"bgcolor\":\"white\",\"landcolor\":\"#E5ECF6\",\"subunitcolor\":\"white\",\"showland\":true,\"showlakes\":true,\"lakecolor\":\"white\"},\"title\":{\"x\":0.05},\"mapbox\":{\"style\":\"light\"}}},\"xaxis\":{\"anchor\":\"y\",\"domain\":[0.0,1.0],\"title\":{\"text\":\"value\"},\"categoryorder\":\"total descending\"},\"yaxis\":{\"anchor\":\"x\",\"domain\":[0.0,1.0],\"title\":{\"text\":\"count\"}},\"legend\":{\"title\":{\"text\":\"variable\"},\"tracegroupgap\":0},\"margin\":{\"t\":60},\"barmode\":\"relative\"},                        {\"responsive\": true}                    ).then(function(){\n",
              "                            \n",
              "var gd = document.getElementById('7751929f-5b80-453d-93b5-6dc28eb1d59f');\n",
              "var x = new MutationObserver(function (mutations, observer) {{\n",
              "        var display = window.getComputedStyle(gd).display;\n",
              "        if (!display || display === 'none') {{\n",
              "            console.log([gd, 'removed!']);\n",
              "            Plotly.purge(gd);\n",
              "            observer.disconnect();\n",
              "        }}\n",
              "}});\n",
              "\n",
              "// Listen for the removal of the full notebook cells\n",
              "var notebookContainer = gd.closest('#notebook-container');\n",
              "if (notebookContainer) {{\n",
              "    x.observe(notebookContainer, {childList: true});\n",
              "}}\n",
              "\n",
              "// Listen for the clearing of the current output cell\n",
              "var outputEl = gd.closest('.output');\n",
              "if (outputEl) {{\n",
              "    x.observe(outputEl, {childList: true});\n",
              "}}\n",
              "\n",
              "                        })                };                            </script>        </div>\n",
              "</body>\n",
              "</html>"
            ]
          },
          "metadata": {}
        }
      ]
    },
    {
      "cell_type": "code",
      "source": [
        "print(f'Original dataset shape : {Counter(y1_train)}')\n",
        "\n",
        "smote = SMOTE(random_state=42)\n",
        "X1_res, y1_res = smote.fit_resample(X1_train, y1_train)\n",
        "\n",
        "print(f'Resampled dataset shape {Counter(y1_res)}')"
      ],
      "metadata": {
        "id": "dBaE9K9qoXLV",
        "colab": {
          "base_uri": "https://localhost:8080/"
        },
        "outputId": "effc546a-0397-45ee-9f03-f45dc405ed2f"
      },
      "execution_count": null,
      "outputs": [
        {
          "output_type": "stream",
          "name": "stdout",
          "text": [
            "Original dataset shape : Counter({3: 582, 0: 473, 1: 80, 2: 74, 4: 41})\n",
            "Resampled dataset shape Counter({1: 582, 0: 582, 3: 582, 2: 582, 4: 582})\n"
          ]
        }
      ]
    },
    {
      "cell_type": "code",
      "source": [
        "X1_test.shape"
      ],
      "metadata": {
        "id": "JNnjpd9I-hkq",
        "colab": {
          "base_uri": "https://localhost:8080/"
        },
        "outputId": "1165756d-cf3c-4b6f-c5ce-c4a1df06a75a"
      },
      "execution_count": null,
      "outputs": [
        {
          "output_type": "execute_result",
          "data": {
            "text/plain": [
              "(313, 9443)"
            ]
          },
          "metadata": {},
          "execution_count": 62
        }
      ]
    },
    {
      "cell_type": "code",
      "source": [
        "X1_res.shape"
      ],
      "metadata": {
        "id": "gNdUs6FF-Xy3",
        "colab": {
          "base_uri": "https://localhost:8080/"
        },
        "outputId": "0ab96961-4e72-4028-c132-70ef824f193f"
      },
      "execution_count": null,
      "outputs": [
        {
          "output_type": "execute_result",
          "data": {
            "text/plain": [
              "(2910, 9443)"
            ]
          },
          "metadata": {},
          "execution_count": 63
        }
      ]
    },
    {
      "cell_type": "markdown",
      "source": [
        "###SVM"
      ],
      "metadata": {
        "id": "sVUWDixyj0cb"
      }
    },
    {
      "cell_type": "code",
      "source": [
        "model1 = SVC()"
      ],
      "metadata": {
        "id": "RIWqV8nja3hT"
      },
      "execution_count": null,
      "outputs": []
    },
    {
      "cell_type": "code",
      "source": [
        "param = {'C':[0.01, 0.1, 1, 10, 1000],\n",
        "          'gamma':[0.0001,0.001,0.01,0.1,1,'scale','auto']}\n",
        "\n",
        "best_param = GridSearchCV(model1, param, refit=True, verbose=3)"
      ],
      "metadata": {
        "id": "jxv1OlVMa45R"
      },
      "execution_count": null,
      "outputs": []
    },
    {
      "cell_type": "code",
      "source": [
        "best_param.fit(X1_res, y1_res)\n",
        "y11_pred = best_param.predict(X1_test)"
      ],
      "metadata": {
        "id": "xHj4YGs8brb-",
        "colab": {
          "base_uri": "https://localhost:8080/"
        },
        "outputId": "a2c4eecb-00c8-4fb3-859c-1cd286c2b440"
      },
      "execution_count": null,
      "outputs": [
        {
          "output_type": "stream",
          "name": "stdout",
          "text": [
            "Fitting 5 folds for each of 35 candidates, totalling 175 fits\n",
            "[CV 1/5] END ..............C=0.01, gamma=0.0001;, score=0.500 total time=   1.3s\n",
            "[CV 2/5] END ..............C=0.01, gamma=0.0001;, score=0.478 total time=   1.3s\n",
            "[CV 3/5] END ..............C=0.01, gamma=0.0001;, score=0.514 total time=   1.3s\n",
            "[CV 4/5] END ..............C=0.01, gamma=0.0001;, score=0.488 total time=   1.3s\n",
            "[CV 5/5] END ..............C=0.01, gamma=0.0001;, score=0.514 total time=   1.3s\n",
            "[CV 1/5] END ...............C=0.01, gamma=0.001;, score=0.503 total time=   1.3s\n",
            "[CV 2/5] END ...............C=0.01, gamma=0.001;, score=0.479 total time=   1.7s\n",
            "[CV 3/5] END ...............C=0.01, gamma=0.001;, score=0.514 total time=   1.4s\n",
            "[CV 4/5] END ...............C=0.01, gamma=0.001;, score=0.488 total time=   1.3s\n",
            "[CV 5/5] END ...............C=0.01, gamma=0.001;, score=0.514 total time=   1.3s\n",
            "[CV 1/5] END ................C=0.01, gamma=0.01;, score=0.512 total time=   1.3s\n",
            "[CV 2/5] END ................C=0.01, gamma=0.01;, score=0.479 total time=   1.3s\n",
            "[CV 3/5] END ................C=0.01, gamma=0.01;, score=0.514 total time=   1.3s\n",
            "[CV 4/5] END ................C=0.01, gamma=0.01;, score=0.488 total time=   1.3s\n",
            "[CV 5/5] END ................C=0.01, gamma=0.01;, score=0.503 total time=   1.3s\n",
            "[CV 1/5] END .................C=0.01, gamma=0.1;, score=0.543 total time=   1.8s\n",
            "[CV 2/5] END .................C=0.01, gamma=0.1;, score=0.481 total time=   1.3s\n",
            "[CV 3/5] END .................C=0.01, gamma=0.1;, score=0.514 total time=   1.3s\n",
            "[CV 4/5] END .................C=0.01, gamma=0.1;, score=0.507 total time=   1.3s\n",
            "[CV 5/5] END .................C=0.01, gamma=0.1;, score=0.485 total time=   1.3s\n",
            "[CV 1/5] END ...................C=0.01, gamma=1;, score=0.474 total time=   1.3s\n",
            "[CV 2/5] END ...................C=0.01, gamma=1;, score=0.416 total time=   1.3s\n",
            "[CV 3/5] END ...................C=0.01, gamma=1;, score=0.505 total time=   1.3s\n",
            "[CV 4/5] END ...................C=0.01, gamma=1;, score=0.491 total time=   1.3s\n",
            "[CV 5/5] END ...................C=0.01, gamma=1;, score=0.442 total time=   1.8s\n",
            "[CV 1/5] END ...............C=0.01, gamma=scale;, score=0.460 total time=   1.3s\n",
            "[CV 2/5] END ...............C=0.01, gamma=scale;, score=0.381 total time=   1.3s\n",
            "[CV 3/5] END ...............C=0.01, gamma=scale;, score=0.490 total time=   1.3s\n",
            "[CV 4/5] END ...............C=0.01, gamma=scale;, score=0.485 total time=   1.3s\n",
            "[CV 5/5] END ...............C=0.01, gamma=scale;, score=0.442 total time=   1.3s\n",
            "[CV 1/5] END ................C=0.01, gamma=auto;, score=0.503 total time=   1.3s\n",
            "[CV 2/5] END ................C=0.01, gamma=auto;, score=0.479 total time=   1.3s\n",
            "[CV 3/5] END ................C=0.01, gamma=auto;, score=0.514 total time=   1.4s\n",
            "[CV 4/5] END ................C=0.01, gamma=auto;, score=0.488 total time=   1.7s\n",
            "[CV 5/5] END ................C=0.01, gamma=auto;, score=0.514 total time=   1.3s\n",
            "[CV 1/5] END ...............C=0.1, gamma=0.0001;, score=0.500 total time=   1.3s\n",
            "[CV 2/5] END ...............C=0.1, gamma=0.0001;, score=0.478 total time=   1.3s\n",
            "[CV 3/5] END ...............C=0.1, gamma=0.0001;, score=0.514 total time=   1.3s\n",
            "[CV 4/5] END ...............C=0.1, gamma=0.0001;, score=0.488 total time=   1.6s\n",
            "[CV 5/5] END ...............C=0.1, gamma=0.0001;, score=0.514 total time=   1.6s\n",
            "[CV 1/5] END ................C=0.1, gamma=0.001;, score=0.503 total time=   1.3s\n",
            "[CV 2/5] END ................C=0.1, gamma=0.001;, score=0.479 total time=   1.7s\n",
            "[CV 3/5] END ................C=0.1, gamma=0.001;, score=0.514 total time=   1.4s\n",
            "[CV 4/5] END ................C=0.1, gamma=0.001;, score=0.488 total time=   1.3s\n",
            "[CV 5/5] END ................C=0.1, gamma=0.001;, score=0.514 total time=   1.3s\n",
            "[CV 1/5] END .................C=0.1, gamma=0.01;, score=0.512 total time=   1.3s\n",
            "[CV 2/5] END .................C=0.1, gamma=0.01;, score=0.479 total time=   1.3s\n",
            "[CV 3/5] END .................C=0.1, gamma=0.01;, score=0.514 total time=   1.3s\n",
            "[CV 4/5] END .................C=0.1, gamma=0.01;, score=0.488 total time=   1.3s\n",
            "[CV 5/5] END .................C=0.1, gamma=0.01;, score=0.503 total time=   1.3s\n",
            "[CV 1/5] END ..................C=0.1, gamma=0.1;, score=0.615 total time=   1.8s\n",
            "[CV 2/5] END ..................C=0.1, gamma=0.1;, score=0.569 total time=   1.3s\n",
            "[CV 3/5] END ..................C=0.1, gamma=0.1;, score=0.514 total time=   1.3s\n",
            "[CV 4/5] END ..................C=0.1, gamma=0.1;, score=0.552 total time=   1.3s\n",
            "[CV 5/5] END ..................C=0.1, gamma=0.1;, score=0.522 total time=   1.3s\n",
            "[CV 1/5] END ....................C=0.1, gamma=1;, score=0.603 total time=   1.1s\n",
            "[CV 2/5] END ....................C=0.1, gamma=1;, score=0.782 total time=   1.1s\n",
            "[CV 3/5] END ....................C=0.1, gamma=1;, score=0.796 total time=   1.1s\n",
            "[CV 4/5] END ....................C=0.1, gamma=1;, score=0.765 total time=   1.1s\n",
            "[CV 5/5] END ....................C=0.1, gamma=1;, score=0.818 total time=   1.3s\n",
            "[CV 1/5] END ................C=0.1, gamma=scale;, score=0.567 total time=   1.4s\n",
            "[CV 2/5] END ................C=0.1, gamma=scale;, score=0.749 total time=   1.1s\n",
            "[CV 3/5] END ................C=0.1, gamma=scale;, score=0.778 total time=   1.1s\n",
            "[CV 4/5] END ................C=0.1, gamma=scale;, score=0.749 total time=   1.1s\n",
            "[CV 5/5] END ................C=0.1, gamma=scale;, score=0.796 total time=   1.1s\n",
            "[CV 1/5] END .................C=0.1, gamma=auto;, score=0.503 total time=   1.3s\n",
            "[CV 2/5] END .................C=0.1, gamma=auto;, score=0.479 total time=   1.3s\n",
            "[CV 3/5] END .................C=0.1, gamma=auto;, score=0.514 total time=   1.3s\n",
            "[CV 4/5] END .................C=0.1, gamma=auto;, score=0.488 total time=   1.3s\n",
            "[CV 5/5] END .................C=0.1, gamma=auto;, score=0.514 total time=   1.7s\n",
            "[CV 1/5] END .................C=1, gamma=0.0001;, score=0.500 total time=   1.4s\n",
            "[CV 2/5] END .................C=1, gamma=0.0001;, score=0.478 total time=   1.3s\n",
            "[CV 3/5] END .................C=1, gamma=0.0001;, score=0.514 total time=   1.3s\n",
            "[CV 4/5] END .................C=1, gamma=0.0001;, score=0.488 total time=   1.3s\n",
            "[CV 5/5] END .................C=1, gamma=0.0001;, score=0.514 total time=   1.3s\n",
            "[CV 1/5] END ..................C=1, gamma=0.001;, score=0.503 total time=   1.3s\n",
            "[CV 2/5] END ..................C=1, gamma=0.001;, score=0.479 total time=   1.3s\n",
            "[CV 3/5] END ..................C=1, gamma=0.001;, score=0.514 total time=   1.3s\n",
            "[CV 4/5] END ..................C=1, gamma=0.001;, score=0.488 total time=   1.8s\n",
            "[CV 5/5] END ..................C=1, gamma=0.001;, score=0.514 total time=   1.3s\n",
            "[CV 1/5] END ...................C=1, gamma=0.01;, score=0.605 total time=   1.3s\n",
            "[CV 2/5] END ...................C=1, gamma=0.01;, score=0.582 total time=   1.3s\n",
            "[CV 3/5] END ...................C=1, gamma=0.01;, score=0.515 total time=   1.3s\n",
            "[CV 4/5] END ...................C=1, gamma=0.01;, score=0.538 total time=   1.3s\n",
            "[CV 5/5] END ...................C=1, gamma=0.01;, score=0.558 total time=   1.3s\n",
            "[CV 1/5] END ....................C=1, gamma=0.1;, score=0.852 total time=   0.9s\n",
            "[CV 2/5] END ....................C=1, gamma=0.1;, score=0.878 total time=   0.9s\n",
            "[CV 3/5] END ....................C=1, gamma=0.1;, score=0.885 total time=   1.0s\n",
            "[CV 4/5] END ....................C=1, gamma=0.1;, score=0.869 total time=   1.3s\n",
            "[CV 5/5] END ....................C=1, gamma=0.1;, score=0.905 total time=   0.9s\n",
            "[CV 1/5] END ......................C=1, gamma=1;, score=0.875 total time=   0.6s\n",
            "[CV 2/5] END ......................C=1, gamma=1;, score=0.912 total time=   0.6s\n",
            "[CV 3/5] END ......................C=1, gamma=1;, score=0.897 total time=   0.6s\n",
            "[CV 4/5] END ......................C=1, gamma=1;, score=0.899 total time=   0.7s\n",
            "[CV 5/5] END ......................C=1, gamma=1;, score=0.919 total time=   0.6s\n",
            "[CV 1/5] END ..................C=1, gamma=scale;, score=0.869 total time=   0.7s\n",
            "[CV 2/5] END ..................C=1, gamma=scale;, score=0.905 total time=   0.7s\n",
            "[CV 3/5] END ..................C=1, gamma=scale;, score=0.897 total time=   0.7s\n",
            "[CV 4/5] END ..................C=1, gamma=scale;, score=0.899 total time=   0.7s\n",
            "[CV 5/5] END ..................C=1, gamma=scale;, score=0.919 total time=   0.7s\n",
            "[CV 1/5] END ...................C=1, gamma=auto;, score=0.503 total time=   1.3s\n",
            "[CV 2/5] END ...................C=1, gamma=auto;, score=0.479 total time=   1.3s\n",
            "[CV 3/5] END ...................C=1, gamma=auto;, score=0.514 total time=   1.8s\n",
            "[CV 4/5] END ...................C=1, gamma=auto;, score=0.488 total time=   1.3s\n",
            "[CV 5/5] END ...................C=1, gamma=auto;, score=0.514 total time=   1.3s\n",
            "[CV 1/5] END ................C=10, gamma=0.0001;, score=0.500 total time=   1.3s\n",
            "[CV 2/5] END ................C=10, gamma=0.0001;, score=0.478 total time=   1.3s\n",
            "[CV 3/5] END ................C=10, gamma=0.0001;, score=0.514 total time=   1.3s\n",
            "[CV 4/5] END ................C=10, gamma=0.0001;, score=0.488 total time=   1.3s\n",
            "[CV 5/5] END ................C=10, gamma=0.0001;, score=0.514 total time=   1.3s\n",
            "[CV 1/5] END .................C=10, gamma=0.001;, score=0.596 total time=   1.3s\n",
            "[CV 2/5] END .................C=10, gamma=0.001;, score=0.586 total time=   1.8s\n",
            "[CV 3/5] END .................C=10, gamma=0.001;, score=0.517 total time=   1.3s\n",
            "[CV 4/5] END .................C=10, gamma=0.001;, score=0.538 total time=   1.3s\n",
            "[CV 5/5] END .................C=10, gamma=0.001;, score=0.570 total time=   1.3s\n",
            "[CV 1/5] END ..................C=10, gamma=0.01;, score=0.869 total time=   0.9s\n",
            "[CV 2/5] END ..................C=10, gamma=0.01;, score=0.880 total time=   0.9s\n",
            "[CV 3/5] END ..................C=10, gamma=0.01;, score=0.881 total time=   0.9s\n",
            "[CV 4/5] END ..................C=10, gamma=0.01;, score=0.875 total time=   0.9s\n",
            "[CV 5/5] END ..................C=10, gamma=0.01;, score=0.899 total time=   0.9s\n",
            "[CV 1/5] END ...................C=10, gamma=0.1;, score=0.902 total time=   0.6s\n",
            "[CV 2/5] END ...................C=10, gamma=0.1;, score=0.907 total time=   0.6s\n",
            "[CV 3/5] END ...................C=10, gamma=0.1;, score=0.907 total time=   0.7s\n",
            "[CV 4/5] END ...................C=10, gamma=0.1;, score=0.904 total time=   0.8s\n",
            "[CV 5/5] END ...................C=10, gamma=0.1;, score=0.942 total time=   0.7s\n",
            "[CV 1/5] END .....................C=10, gamma=1;, score=0.878 total time=   0.6s\n",
            "[CV 2/5] END .....................C=10, gamma=1;, score=0.904 total time=   0.6s\n",
            "[CV 3/5] END .....................C=10, gamma=1;, score=0.907 total time=   0.6s\n",
            "[CV 4/5] END .....................C=10, gamma=1;, score=0.900 total time=   0.6s\n",
            "[CV 5/5] END .....................C=10, gamma=1;, score=0.943 total time=   0.6s\n",
            "[CV 1/5] END .................C=10, gamma=scale;, score=0.871 total time=   0.6s\n",
            "[CV 2/5] END .................C=10, gamma=scale;, score=0.909 total time=   0.6s\n",
            "[CV 3/5] END .................C=10, gamma=scale;, score=0.899 total time=   0.6s\n",
            "[CV 4/5] END .................C=10, gamma=scale;, score=0.899 total time=   0.6s\n",
            "[CV 5/5] END .................C=10, gamma=scale;, score=0.943 total time=   0.6s\n",
            "[CV 1/5] END ..................C=10, gamma=auto;, score=0.503 total time=   1.3s\n",
            "[CV 2/5] END ..................C=10, gamma=auto;, score=0.479 total time=   1.3s\n",
            "[CV 3/5] END ..................C=10, gamma=auto;, score=0.514 total time=   1.3s\n",
            "[CV 4/5] END ..................C=10, gamma=auto;, score=0.488 total time=   1.8s\n",
            "[CV 5/5] END ..................C=10, gamma=auto;, score=0.514 total time=   1.3s\n",
            "[CV 1/5] END ..............C=1000, gamma=0.0001;, score=0.869 total time=   0.9s\n",
            "[CV 2/5] END ..............C=1000, gamma=0.0001;, score=0.878 total time=   0.9s\n",
            "[CV 3/5] END ..............C=1000, gamma=0.0001;, score=0.881 total time=   0.9s\n",
            "[CV 4/5] END ..............C=1000, gamma=0.0001;, score=0.873 total time=   0.9s\n",
            "[CV 5/5] END ..............C=1000, gamma=0.0001;, score=0.899 total time=   0.9s\n",
            "[CV 1/5] END ...............C=1000, gamma=0.001;, score=0.904 total time=   0.7s\n",
            "[CV 2/5] END ...............C=1000, gamma=0.001;, score=0.897 total time=   0.8s\n",
            "[CV 3/5] END ...............C=1000, gamma=0.001;, score=0.900 total time=   0.7s\n",
            "[CV 4/5] END ...............C=1000, gamma=0.001;, score=0.909 total time=   0.7s\n",
            "[CV 5/5] END ...............C=1000, gamma=0.001;, score=0.942 total time=   0.8s\n",
            "[CV 1/5] END ................C=1000, gamma=0.01;, score=0.892 total time=   0.8s\n",
            "[CV 2/5] END ................C=1000, gamma=0.01;, score=0.880 total time=   0.9s\n",
            "[CV 3/5] END ................C=1000, gamma=0.01;, score=0.895 total time=   0.8s\n",
            "[CV 4/5] END ................C=1000, gamma=0.01;, score=0.892 total time=   0.6s\n",
            "[CV 5/5] END ................C=1000, gamma=0.01;, score=0.931 total time=   0.6s\n",
            "[CV 1/5] END .................C=1000, gamma=0.1;, score=0.880 total time=   0.6s\n",
            "[CV 2/5] END .................C=1000, gamma=0.1;, score=0.885 total time=   0.6s\n",
            "[CV 3/5] END .................C=1000, gamma=0.1;, score=0.899 total time=   0.6s\n",
            "[CV 4/5] END .................C=1000, gamma=0.1;, score=0.905 total time=   0.6s\n",
            "[CV 5/5] END .................C=1000, gamma=0.1;, score=0.936 total time=   0.6s\n",
            "[CV 1/5] END ...................C=1000, gamma=1;, score=0.833 total time=   0.6s\n",
            "[CV 2/5] END ...................C=1000, gamma=1;, score=0.895 total time=   0.6s\n",
            "[CV 3/5] END ...................C=1000, gamma=1;, score=0.893 total time=   0.6s\n",
            "[CV 4/5] END ...................C=1000, gamma=1;, score=0.887 total time=   0.6s\n",
            "[CV 5/5] END ...................C=1000, gamma=1;, score=0.933 total time=   0.6s\n",
            "[CV 1/5] END ...............C=1000, gamma=scale;, score=0.835 total time=   0.6s\n",
            "[CV 2/5] END ...............C=1000, gamma=scale;, score=0.902 total time=   0.6s\n",
            "[CV 3/5] END ...............C=1000, gamma=scale;, score=0.899 total time=   0.6s\n",
            "[CV 4/5] END ...............C=1000, gamma=scale;, score=0.883 total time=   0.6s\n",
            "[CV 5/5] END ...............C=1000, gamma=scale;, score=0.933 total time=   0.8s\n",
            "[CV 1/5] END ................C=1000, gamma=auto;, score=0.876 total time=   1.2s\n",
            "[CV 2/5] END ................C=1000, gamma=auto;, score=0.883 total time=   0.9s\n",
            "[CV 3/5] END ................C=1000, gamma=auto;, score=0.885 total time=   0.9s\n",
            "[CV 4/5] END ................C=1000, gamma=auto;, score=0.878 total time=   0.9s\n",
            "[CV 5/5] END ................C=1000, gamma=auto;, score=0.900 total time=   0.9s\n"
          ]
        }
      ]
    },
    {
      "cell_type": "code",
      "source": [
        "best_param.best_params_"
      ],
      "metadata": {
        "id": "KsygQUz1jXE2",
        "colab": {
          "base_uri": "https://localhost:8080/"
        },
        "outputId": "b3a04c8e-de84-427a-95da-0e41caf71493"
      },
      "execution_count": null,
      "outputs": [
        {
          "output_type": "execute_result",
          "data": {
            "text/plain": [
              "{'C': 10, 'gamma': 0.1}"
            ]
          },
          "metadata": {},
          "execution_count": 67
        }
      ]
    },
    {
      "cell_type": "code",
      "source": [
        "# Classification report\n",
        "print('\\t\\t\\t\\tCLASSIFICATIION METRICS\\n')\n",
        "print(metrics.classification_report(y1_test, y11_pred,\n",
        "                                    target_names= data['Bidang'].unique()))"
      ],
      "metadata": {
        "id": "9jaVpCEOWXAv",
        "colab": {
          "base_uri": "https://localhost:8080/"
        },
        "outputId": "79abaf65-c9d5-46ae-e5ab-d1c0b11d2b90"
      },
      "execution_count": null,
      "outputs": [
        {
          "output_type": "stream",
          "name": "stdout",
          "text": [
            "\t\t\t\tCLASSIFICATIION METRICS\n",
            "\n",
            "                 precision    recall  f1-score   support\n",
            "\n",
            "            Non       0.61      0.63      0.62       131\n",
            "        Renbang       0.91      0.56      0.69        18\n",
            "Penyelenggaraan       0.88      0.29      0.44        24\n",
            "           PMPS       0.64      0.73      0.68       138\n",
            "             TU       0.00      0.00      0.00         2\n",
            "\n",
            "       accuracy                           0.64       313\n",
            "      macro avg       0.61      0.44      0.49       313\n",
            "   weighted avg       0.66      0.64      0.63       313\n",
            "\n"
          ]
        }
      ]
    },
    {
      "cell_type": "code",
      "source": [
        "accuracy = accuracy_score(y1_test, y11_pred)\n",
        "precision = precision_score(y1_test, y11_pred, average='micro')\n",
        "recall = recall_score(y1_test, y11_pred, average='micro')\n",
        "f1 = f1_score(y1_test, y11_pred, average='micro')\n",
        "hl = hamming_loss(y1_test, y11_pred)\n",
        "\n",
        "print(\"Micro-average quality numbers\")\n",
        "print(\"Accuracy: {:.4f}\".format(accuracy))\n",
        "print(\"Precision: {:.4f}\".format(precision))\n",
        "print(\"Recall: {:.4f}\".format(recall))\n",
        "print(\"F1-Score: {:.4f}\".format(f1))\n",
        "print(\"Hamming Loss: {:.4f}\".format(hl))"
      ],
      "metadata": {
        "id": "EiizqTeFWXAv",
        "colab": {
          "base_uri": "https://localhost:8080/"
        },
        "outputId": "a9cc0c8b-be19-4fd1-c475-3445e4eba0cb"
      },
      "execution_count": null,
      "outputs": [
        {
          "output_type": "stream",
          "name": "stdout",
          "text": [
            "Micro-average quality numbers\n",
            "Accuracy: 0.6390\n",
            "Precision: 0.6390\n",
            "Recall: 0.6390\n",
            "F1-Score: 0.6390\n",
            "Hamming Loss: 0.3610\n"
          ]
        }
      ]
    }
  ]
}